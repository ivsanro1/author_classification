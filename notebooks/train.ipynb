{
 "cells": [
  {
   "cell_type": "code",
   "execution_count": 2,
   "id": "050232f3",
   "metadata": {},
   "outputs": [
    {
     "name": "stdout",
     "output_type": "stream",
     "text": [
      "The autoreload extension is already loaded. To reload it, use:\n",
      "  %reload_ext autoreload\n"
     ]
    },
    {
     "data": {
      "text/html": [
       "<style>.container { width:80% !important; }</style>"
      ],
      "text/plain": [
       "<IPython.core.display.HTML object>"
      ]
     },
     "metadata": {},
     "output_type": "display_data"
    }
   ],
   "source": [
    "%load_ext autoreload\n",
    "%autoreload 2\n",
    "\n",
    "import os\n",
    "from pathlib import Path\n",
    "import numpy as np\n",
    "\n",
    "from IPython.display import display, HTML\n",
    "display(HTML(\"<style>.container { width:80% !important; }</style>\"))\n",
    "\n",
    "\n",
    "# Override/set credentials in env var\n",
    "os.environ['CWD'] = str(Path(os.getcwd()).parent)\n",
    "\n",
    "# Base paths\n",
    "cwd = Path(os.environ['CWD'])\n",
    "dir_data = cwd / 'data'"
   ]
  },
  {
   "cell_type": "code",
   "execution_count": null,
   "id": "6074173f",
   "metadata": {},
   "outputs": [],
   "source": [
    "import pandas as pd\n",
    "\n",
    "df_tr_ev = pd.read_csv(dir_data / 'train.csv')\n",
    "df_tr_ev['split'] = 'tr'\n",
    "df_te = pd.read_csv(dir_data / 'test.csv')\n",
    "df_te['split'] = 'te'\n",
    "\n",
    "df = pd.concat([df_tr_ev, df_te])"
   ]
  },
  {
   "cell_type": "code",
   "execution_count": null,
   "id": "ffa90d9d",
   "metadata": {},
   "outputs": [],
   "source": []
  },
  {
   "cell_type": "code",
   "execution_count": null,
   "id": "777698ae",
   "metadata": {},
   "outputs": [],
   "source": []
  },
  {
   "cell_type": "code",
   "execution_count": null,
   "id": "4cabce8f",
   "metadata": {},
   "outputs": [],
   "source": []
  },
  {
   "cell_type": "code",
   "execution_count": null,
   "id": "1f3fd088",
   "metadata": {},
   "outputs": [],
   "source": []
  },
  {
   "cell_type": "code",
   "execution_count": null,
   "id": "b0ccb72e",
   "metadata": {},
   "outputs": [],
   "source": []
  },
  {
   "cell_type": "code",
   "execution_count": null,
   "id": "58d1e4ed",
   "metadata": {},
   "outputs": [],
   "source": []
  },
  {
   "cell_type": "code",
   "execution_count": 1,
   "id": "95c2dcb2",
   "metadata": {},
   "outputs": [
    {
     "data": {
      "text/html": [
       "<style>.container { width:80% !important; }</style>"
      ],
      "text/plain": [
       "<IPython.core.display.HTML object>"
      ]
     },
     "metadata": {},
     "output_type": "display_data"
    }
   ],
   "source": [
    "from sklearn.model_selection import train_test_split\n",
    "df_tr, df_ev = train_test_split(df_tr_ev, test_size=0.25, stratify=df_tr_ev['author'], random_state=288)"
   ]
  },
  {
   "cell_type": "code",
   "execution_count": null,
   "id": "de3c68e5",
   "metadata": {},
   "outputs": [],
   "source": [
    "def get_text_stats_features(df):\n",
    "    return df[['polarity',\n",
    "       'subjectivity', 'flesch_reading_ease', 'flesch_kincaid_grade',\n",
    "       'gunning_fog', 'automated_readability_index', 'coleman_liau_index',\n",
    "       'linsear_write_formula', 'dale_chall_readability_score',\n",
    "       'mcalpine_eflaw', 'reading_time', 'syllable_count', 'lexicon_count',\n",
    "       'char_count', 'letter_count', 'polysyllabcount', 'monosyllabcount']].to_numpy()\n",
    "\n",
    "X_tr_stats = get_text_stats_features(df_tr)\n",
    "X_ev_stats = get_text_stats_features(df_ev)"
   ]
  },
  {
   "cell_type": "code",
   "execution_count": null,
   "id": "774eacd6",
   "metadata": {},
   "outputs": [],
   "source": [
    "from sklearn.feature_extraction.text import TfidfVectorizer\n",
    "tfidf_char = TfidfVectorizer(\n",
    "    ngram_range=(1,5),\n",
    "    analyzer='char_wb',\n",
    "    min_df=20,\n",
    "    max_df=0.7\n",
    ")\n",
    "\n",
    "\n",
    "\n",
    "X_tfidf_char_tr = tfidf_char.fit_transform(df_tr['text_processed'])\n",
    "display(len(tfidf_char.vocabulary_))\n",
    "X_tfidf_char_ev = tfidf_char.transform(df_ev['text_processed'])"
   ]
  },
  {
   "cell_type": "code",
   "execution_count": null,
   "id": "513e42f5",
   "metadata": {},
   "outputs": [],
   "source": [
    "from sklearn.decomposition import TruncatedSVD\n",
    "\n",
    "tsvd_char = TruncatedSVD(n_components=1300, random_state=288)\n",
    "X_tfidf_char_tsvd_tr = tsvd_char.fit_transform(X_tfidf_char_tr)\n",
    "print(f'Cumulative sum of explained variance ratio kept by tsvd_char: {round(tsvd_char.explained_variance_ratio_.cumsum()[-1], 4)}')\n",
    "X_tfidf_char_tsvd_ev = tsvd_char.transform(X_tfidf_char_ev)"
   ]
  },
  {
   "cell_type": "code",
   "execution_count": null,
   "id": "414ff6f6",
   "metadata": {},
   "outputs": [],
   "source": [
    "# Lemmatize first\n",
    "tfidf_word = TfidfVectorizer(\n",
    "    ngram_range=(1,3),\n",
    "    analyzer='word',\n",
    "    min_df=10,\n",
    "    max_df=0.8\n",
    ")\n",
    "\n",
    "X_tfidf_word_tr = tfidf_word.fit_transform(df_tr['text_lemmatized_processed'])\n",
    "display(len(tfidf_word.vocabulary_))\n",
    "X_tfidf_word_ev = tfidf_word.transform(df_ev['text_lemmatized_processed'])\n",
    "\n",
    "\n",
    "tsvd_word = TruncatedSVD(n_components=400, random_state=288)\n",
    "X_tfidf_word_tsvd_tr = tsvd_word.fit_transform(X_tfidf_word_tr)\n",
    "print(f'Cumulative sum of explained variance ratio kept by tsvd_word: {round(tsvd_word.explained_variance_ratio_.cumsum()[-1], 4)}')\n",
    "X_tfidf_word_tsvd_ev = tsvd_word.transform(X_tfidf_word_ev)"
   ]
  },
  {
   "cell_type": "code",
   "execution_count": null,
   "id": "263317d5",
   "metadata": {},
   "outputs": [],
   "source": [
    "from sklearn.preprocessing import RobustScaler\n",
    "scaler = RobustScaler()"
   ]
  },
  {
   "cell_type": "code",
   "execution_count": null,
   "id": "2cd4e5cc",
   "metadata": {},
   "outputs": [],
   "source": [
    "X_tr = np.hstack([X_tr_stats, X_tfidf_tsvd_tr])\n",
    "X_ev = np.hstack([X_ev_stats, X_tfidf_tsvd_ev])"
   ]
  },
  {
   "cell_type": "code",
   "execution_count": null,
   "id": "64fcf0f9",
   "metadata": {},
   "outputs": [],
   "source": [
    "X_tr_scaled = scaler.fit_transform(X_tr)\n",
    "X_ev_scaled = scaler.transform(X_ev)"
   ]
  },
  {
   "cell_type": "code",
   "execution_count": null,
   "id": "a061b55f",
   "metadata": {},
   "outputs": [],
   "source": []
  },
  {
   "cell_type": "code",
   "execution_count": null,
   "id": "c26753da",
   "metadata": {},
   "outputs": [],
   "source": []
  }
 ],
 "metadata": {
  "kernelspec": {
   "display_name": "Python 3 (ipykernel)",
   "language": "python",
   "name": "python3"
  },
  "language_info": {
   "codemirror_mode": {
    "name": "ipython",
    "version": 3
   },
   "file_extension": ".py",
   "mimetype": "text/x-python",
   "name": "python",
   "nbconvert_exporter": "python",
   "pygments_lexer": "ipython3",
   "version": "3.7.10"
  },
  "toc": {
   "base_numbering": 1,
   "nav_menu": {},
   "number_sections": true,
   "sideBar": true,
   "skip_h1_title": false,
   "title_cell": "Table of Contents",
   "title_sidebar": "Contents",
   "toc_cell": false,
   "toc_position": {},
   "toc_section_display": true,
   "toc_window_display": false
  }
 },
 "nbformat": 4,
 "nbformat_minor": 5
}
