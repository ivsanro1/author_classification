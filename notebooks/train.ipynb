{
 "cells": [
  {
   "cell_type": "code",
   "execution_count": 1,
   "id": "8f65e3d1",
   "metadata": {},
   "outputs": [
    {
     "data": {
      "text/html": [
       "<style>.container { width:80% !important; }</style>"
      ],
      "text/plain": [
       "<IPython.core.display.HTML object>"
      ]
     },
     "metadata": {},
     "output_type": "display_data"
    }
   ],
   "source": [
    "%load_ext autoreload\n",
    "%autoreload 2\n",
    "\n",
    "import os\n",
    "from pathlib import Path\n",
    "import numpy as np\n",
    "\n",
    "from IPython.display import display, HTML\n",
    "display(HTML(\"<style>.container { width:80% !important; }</style>\"))\n",
    "\n",
    "# Override/set credentials in env var\n",
    "os.environ['CWD'] = str(Path(os.getcwd()).parent)\n",
    "\n",
    "# Base paths\n",
    "cwd = Path(os.environ['CWD'])\n",
    "dir_data = cwd / 'data'\n",
    "dir_models = cwd / 'models'\n",
    "dir_models.mkdir(exist_ok=True, parents=True)\n",
    "\n",
    "\n",
    "import pickle\n",
    "def picklesave(o, f):\n",
    "    with open(f, 'wb') as fp:\n",
    "        pickle.dump(o, fp)\n",
    "        \n",
    "def pickleload(f):\n",
    "    with open(f, 'rb') as fp:\n",
    "        return pickle.load(fp)\n",
    "\n",
    "\n",
    "from tqdm import tqdm \n",
    "tqdm.pandas()"
   ]
  },
  {
   "cell_type": "code",
   "execution_count": 2,
   "id": "d11e012c",
   "metadata": {},
   "outputs": [],
   "source": [
    "# !pip install -e .."
   ]
  },
  {
   "cell_type": "markdown",
   "id": "5ae153a1",
   "metadata": {},
   "source": [
    "# Load data"
   ]
  },
  {
   "cell_type": "code",
   "execution_count": 3,
   "id": "d414e823",
   "metadata": {},
   "outputs": [],
   "source": [
    "import pandas as pd\n",
    "\n",
    "df_tr_ev = pd.read_csv(dir_data / 'train.csv')\n",
    "df_tr_ev['split'] = 'tr'\n",
    "df_te = pd.read_csv(dir_data / 'test.csv')\n",
    "df_te['split'] = 'te'\n",
    "\n",
    "df = pd.concat([df_tr_ev, df_te])"
   ]
  },
  {
   "cell_type": "markdown",
   "id": "1529e685",
   "metadata": {},
   "source": [
    "# Feature Extraction"
   ]
  },
  {
   "cell_type": "markdown",
   "id": "308eea6a",
   "metadata": {},
   "source": [
    "## Set punctuation features (statistics) from unprocessed texts"
   ]
  },
  {
   "cell_type": "code",
   "execution_count": 4,
   "id": "14116147",
   "metadata": {},
   "outputs": [
    {
     "name": "stderr",
     "output_type": "stream",
     "text": [
      "2022-04-25 18:07:28.327961: W tensorflow/stream_executor/platform/default/dso_loader.cc:64] Could not load dynamic library 'libcudart.so.11.0'; dlerror: libcudart.so.11.0: cannot open shared object file: No such file or directory\n",
      "2022-04-25 18:07:28.328005: I tensorflow/stream_executor/cuda/cudart_stub.cc:29] Ignore above cudart dlerror if you do not have a GPU set up on your machine.\n",
      "100%|███████████████████████████████████| 40000/40000 [00:08<00:00, 4572.18it/s]\n"
     ]
    }
   ],
   "source": [
    "from author_classification.feature_extraction import get_text_punctuation_stat_features\n",
    "df_tr_ev['dict_punct_features'] = df_tr_ev['text'].progress_apply(get_text_punctuation_stat_features)\n",
    "\n",
    "punctuation_feature_names = df_tr_ev['dict_punct_features'].iloc[0].keys()\n",
    "\n",
    "# Put each punctuation feature in a column in the dataframe\n",
    "from author_classification.utils import expand_col_dicts\n",
    "df_tr_ev = expand_col_dicts(df_tr_ev, colname_dict='dict_punct_features')"
   ]
  },
  {
   "cell_type": "markdown",
   "id": "c16a1995",
   "metadata": {},
   "source": [
    "## Sentiment and readability from unprocessed texts"
   ]
  },
  {
   "cell_type": "code",
   "execution_count": 5,
   "id": "daae6bf6",
   "metadata": {},
   "outputs": [
    {
     "name": "stderr",
     "output_type": "stream",
     "text": [
      "100%|███████████████████████████████████████████| 15/15 [00:47<00:00,  3.17s/it]\n",
      "100%|███████████████████████████████████| 40000/40000 [00:16<00:00, 2417.40it/s]\n"
     ]
    }
   ],
   "source": [
    "from author_classification.feature_extraction import (\n",
    "    set_text_readability_statistics, set_text_polarity_subjectivity, LIST_TUPLES_READABILITY_STATISTICS\n",
    ")\n",
    "df_tr_ev = set_text_readability_statistics(df_tr_ev, colname_text='text')\n",
    "df_tr_ev = set_text_polarity_subjectivity(df_tr_ev, colname_text='text')\n",
    "\n",
    "df_measures_per_author = df_tr_ev.groupby('author').agg(\n",
    "    {\n",
    "        **{'polarity': list, 'subjectivity': list},\n",
    "        **{k:list for k in list(zip(*LIST_TUPLES_READABILITY_STATISTICS))[0]}\n",
    "    }\n",
    ")"
   ]
  },
  {
   "cell_type": "markdown",
   "id": "fa9a85e9",
   "metadata": {},
   "source": [
    "## Preprocess texts"
   ]
  },
  {
   "cell_type": "code",
   "execution_count": 6,
   "id": "ec6fe4ed",
   "metadata": {},
   "outputs": [
    {
     "name": "stderr",
     "output_type": "stream",
     "text": [
      "100%|████████████████████████████████████| 40000/40000 [03:28<00:00, 191.91it/s]\n"
     ]
    }
   ],
   "source": [
    "# Preprocess text\n",
    "from author_classification.preprocessing import preprocess_text\n",
    "# We should also make another column\n",
    "df_tr_ev['text_processed'] = df_tr_ev['text'].progress_apply(lambda txt: preprocess_text(txt, lemmatize=True))"
   ]
  },
  {
   "cell_type": "markdown",
   "id": "45025748",
   "metadata": {},
   "source": [
    "## n-grams"
   ]
  },
  {
   "cell_type": "markdown",
   "id": "9ccaad00",
   "metadata": {},
   "source": [
    "### Split dataset now to avoid data leakage in tfidf and tsvd"
   ]
  },
  {
   "cell_type": "code",
   "execution_count": 7,
   "id": "5172ab4f",
   "metadata": {},
   "outputs": [],
   "source": [
    "from sklearn.model_selection import train_test_split\n",
    "df_tr, df_ev = train_test_split(df_tr_ev, test_size=0.15, stratify=df_tr_ev['author'], random_state=288)"
   ]
  },
  {
   "cell_type": "markdown",
   "id": "dc549562",
   "metadata": {},
   "source": [
    "### Char-level tfidf on unprocessed texts\n",
    "Capture fine-grain char-level features"
   ]
  },
  {
   "cell_type": "code",
   "execution_count": 8,
   "id": "03c187ff",
   "metadata": {},
   "outputs": [
    {
     "name": "stdout",
     "output_type": "stream",
     "text": [
      "61903 features\n"
     ]
    }
   ],
   "source": [
    "from sklearn.feature_extraction.text import TfidfVectorizer\n",
    "tfidf_char = TfidfVectorizer(\n",
    "    ngram_range=(1,5),\n",
    "    analyzer='char',\n",
    "    min_df=40,\n",
    "    max_df=0.7\n",
    ")\n",
    "\n",
    "X_tfidf_char_tr = tfidf_char.fit_transform(df_tr['text']).astype(np.float32)\n",
    "print(f'{len(tfidf_char.vocabulary_)} features')\n",
    "X_tfidf_char_ev = tfidf_char.transform(df_ev['text']).astype(np.float32)\n",
    "\n",
    "picklesave(tfidf_char, dir_models / 'tfidf_char.pkl')"
   ]
  },
  {
   "cell_type": "markdown",
   "id": "47856eb7",
   "metadata": {},
   "source": [
    "### Reduce dimensionality with TSVD"
   ]
  },
  {
   "cell_type": "code",
   "execution_count": 9,
   "id": "7124c8a9",
   "metadata": {},
   "outputs": [
    {
     "name": "stdout",
     "output_type": "stream",
     "text": [
      "Cumulative sum of explained variance ratio kept by tsvd_char: 0.4212000072002411\n"
     ]
    }
   ],
   "source": [
    "from sklearn.decomposition import TruncatedSVD\n",
    "\n",
    "tsvd_char = TruncatedSVD(n_components=1000, random_state=288)\n",
    "X_tfidf_char_tsvd_tr = tsvd_char.fit_transform(X_tfidf_char_tr)\n",
    "print(f'Cumulative sum of explained variance ratio kept by tsvd_char: {round(tsvd_char.explained_variance_ratio_.cumsum()[-1], 4)}')\n",
    "X_tfidf_char_tsvd_ev = tsvd_char.transform(X_tfidf_char_ev)\n",
    "\n",
    "picklesave(tsvd_char, dir_models / 'tsvd_char.pkl')"
   ]
  },
  {
   "cell_type": "markdown",
   "id": "573bd0e0",
   "metadata": {},
   "source": [
    "### Word-level tfidf on processed texts\n",
    "Capture coarse-grained word-level features, relations between words, etc."
   ]
  },
  {
   "cell_type": "markdown",
   "id": "9ebcc435",
   "metadata": {},
   "source": [
    "#### Fit word-level tfidf"
   ]
  },
  {
   "cell_type": "code",
   "execution_count": 10,
   "id": "995281f5",
   "metadata": {},
   "outputs": [
    {
     "name": "stdout",
     "output_type": "stream",
     "text": [
      "29243 features\n"
     ]
    }
   ],
   "source": [
    "from sklearn.feature_extraction.text import TfidfVectorizer\n",
    "tfidf_word = TfidfVectorizer(\n",
    "    ngram_range=(1,2),\n",
    "    analyzer='word',\n",
    "    min_df=5,\n",
    "    max_df=0.7\n",
    ")\n",
    "\n",
    "X_tfidf_word_tr = tfidf_word.fit_transform(df_tr['text_processed']).astype(np.float32)\n",
    "print(f'{len(tfidf_word.vocabulary_)} features')\n",
    "X_tfidf_word_ev = tfidf_word.transform(df_ev['text_processed']).astype(np.float32)\n",
    "\n",
    "picklesave(tfidf_word, dir_models / 'tfidf_word.pkl')"
   ]
  },
  {
   "cell_type": "markdown",
   "id": "abf47d12",
   "metadata": {},
   "source": [
    "### Reduce dimensionality with TSVD"
   ]
  },
  {
   "cell_type": "code",
   "execution_count": 11,
   "id": "5ee5cc66",
   "metadata": {},
   "outputs": [
    {
     "name": "stdout",
     "output_type": "stream",
     "text": [
      "Cumulative sum of explained variance ratio kept by tsvd_word: 0.44040000438690186\n"
     ]
    }
   ],
   "source": [
    "from sklearn.decomposition import TruncatedSVD\n",
    "tsvd_word = TruncatedSVD(n_components=1500, random_state=288)\n",
    "X_tfidf_word_tsvd_tr = tsvd_word.fit_transform(X_tfidf_word_tr)\n",
    "print(f'Cumulative sum of explained variance ratio kept by tsvd_word: {round(tsvd_word.explained_variance_ratio_.cumsum()[-1], 4)}')\n",
    "X_tfidf_word_tsvd_ev = tsvd_word.transform(X_tfidf_word_ev)\n",
    "\n",
    "picklesave(tsvd_word, dir_models / 'tsvd_word.pkl')"
   ]
  },
  {
   "cell_type": "code",
   "execution_count": 12,
   "id": "007f69a1",
   "metadata": {},
   "outputs": [],
   "source": [
    "from author_classification.feature_extraction import get_feature_matrix_from_dataframe_with_feature_columns\n",
    "\n",
    "X_tr_stats = get_feature_matrix_from_dataframe_with_feature_columns(df_tr)\n",
    "X_ev_stats = get_feature_matrix_from_dataframe_with_feature_columns(df_ev)"
   ]
  },
  {
   "cell_type": "code",
   "execution_count": 13,
   "id": "8b25578b",
   "metadata": {},
   "outputs": [
    {
     "data": {
      "application/vnd.jupyter.widget-view+json": {
       "model_id": "9ad054b5b8d34c20bb93ce809f197bc4",
       "version_major": 2,
       "version_minor": 0
      },
      "text/plain": [
       "Batches:   0%|          | 0/1063 [00:00<?, ?it/s]"
      ]
     },
     "metadata": {},
     "output_type": "display_data"
    },
    {
     "data": {
      "application/vnd.jupyter.widget-view+json": {
       "model_id": "bac35ae7dbe941c6a1e5d33e276f7829",
       "version_major": 2,
       "version_minor": 0
      },
      "text/plain": [
       "Batches:   0%|          | 0/188 [00:00<?, ?it/s]"
      ]
     },
     "metadata": {},
     "output_type": "display_data"
    }
   ],
   "source": [
    "from sentence_transformers import SentenceTransformer\n",
    "model_sent_embs = SentenceTransformer('all-MiniLM-L6-v2')\n",
    "X_sentembs_tr = model_sent_embs.encode(df_tr['text'].values, show_progress_bar=True)\n",
    "X_sentembs_ev = model_sent_embs.encode(df_ev['text'].values, show_progress_bar=True)"
   ]
  },
  {
   "cell_type": "code",
   "execution_count": 14,
   "id": "be8abfc9",
   "metadata": {},
   "outputs": [],
   "source": [
    "from sklearn.preprocessing import RobustScaler\n",
    "scaler = RobustScaler()\n",
    "X_tr_stats_scaled = scaler.fit_transform(X_tr_stats)\n",
    "X_ev_stats_scaled = scaler.transform(X_ev_stats)"
   ]
  },
  {
   "cell_type": "code",
   "execution_count": 15,
   "id": "797e8023",
   "metadata": {},
   "outputs": [],
   "source": [
    "X_tr = np.hstack([X_tr_stats_scaled, X_tfidf_char_tsvd_tr, X_tfidf_word_tsvd_tr, X_sentembs_tr])\n",
    "X_ev = np.hstack([X_ev_stats_scaled, X_tfidf_char_tsvd_ev, X_tfidf_word_tsvd_ev, X_sentembs_ev])"
   ]
  },
  {
   "cell_type": "code",
   "execution_count": 16,
   "id": "229e1edb",
   "metadata": {},
   "outputs": [],
   "source": [
    "# picklesave(X_tr, dir_models / 'X_tr.pkl')\n",
    "# picklesave(X_ev, dir_models / 'X_ev.pkl')"
   ]
  },
  {
   "cell_type": "code",
   "execution_count": 17,
   "id": "467c7c0a",
   "metadata": {},
   "outputs": [],
   "source": [
    "# X_tr = pickleload(dir_models / 'X_tr.pkl')\n",
    "# X_ev = pickleload(dir_models / 'X_ev.pkl')"
   ]
  },
  {
   "cell_type": "code",
   "execution_count": 18,
   "id": "1d898885",
   "metadata": {},
   "outputs": [],
   "source": [
    "# X_tr_scaled = scaler.fit_transform(X_tr)\n",
    "# X_ev_scaled = scaler.transform(X_ev)"
   ]
  },
  {
   "cell_type": "code",
   "execution_count": 19,
   "id": "413ebae1",
   "metadata": {},
   "outputs": [],
   "source": [
    "# from sklearn.ensemble import ExtraTreesClassifier, RandomForestClassifier\n",
    "# from sklearn.neural_network import MLPClassifier\n",
    "\n",
    "# # clf = RandomForestClassifier(verbose=3, n_jobs=8)\n",
    "# clf = MLPClassifier(\n",
    "#     hidden_layer_sizes=(512,512),#,512),\n",
    "#     batch_size=64,\n",
    "#     max_iter=10000,\n",
    "#     random_state=288,\n",
    "#     verbose=2,\n",
    "#     early_stopping=True,\n",
    "#     n_iter_no_change=50\n",
    "# )"
   ]
  },
  {
   "cell_type": "code",
   "execution_count": 20,
   "id": "d5b6f2e9",
   "metadata": {},
   "outputs": [],
   "source": [
    "# clf.fit(X_tr, df_tr['author'])"
   ]
  },
  {
   "cell_type": "code",
   "execution_count": null,
   "id": "cb2e42a6",
   "metadata": {},
   "outputs": [],
   "source": []
  },
  {
   "cell_type": "code",
   "execution_count": 21,
   "id": "a76adbbd",
   "metadata": {},
   "outputs": [
    {
     "name": "stdout",
     "output_type": "stream",
     "text": [
      "Model: \"model\"\n",
      "_________________________________________________________________\n",
      "Layer (type)                 Output Shape              Param #   \n",
      "=================================================================\n",
      "input_1 (InputLayer)         [(None, 2920)]            0         \n",
      "_________________________________________________________________\n",
      "gaussian_noise (GaussianNois (None, 2920)              0         \n",
      "_________________________________________________________________\n",
      "dense (Dense)                (None, 32)                93472     \n",
      "_________________________________________________________________\n",
      "gaussian_noise_1 (GaussianNo (None, 32)                0         \n",
      "_________________________________________________________________\n",
      "dropout (Dropout)            (None, 32)                0         \n",
      "_________________________________________________________________\n",
      "dense_1 (Dense)              (None, 32)                1056      \n",
      "_________________________________________________________________\n",
      "gaussian_noise_2 (GaussianNo (None, 32)                0         \n",
      "_________________________________________________________________\n",
      "dropout_1 (Dropout)          (None, 32)                0         \n",
      "_________________________________________________________________\n",
      "dense_2 (Dense)              (None, 4)                 132       \n",
      "=================================================================\n",
      "Total params: 94,660\n",
      "Trainable params: 94,660\n",
      "Non-trainable params: 0\n",
      "_________________________________________________________________\n"
     ]
    },
    {
     "name": "stderr",
     "output_type": "stream",
     "text": [
      "2022-04-25 18:33:23.545848: W tensorflow/stream_executor/platform/default/dso_loader.cc:64] Could not load dynamic library 'libcuda.so.1'; dlerror: libcuda.so.1: cannot open shared object file: No such file or directory\n",
      "2022-04-25 18:33:23.545906: W tensorflow/stream_executor/cuda/cuda_driver.cc:326] failed call to cuInit: UNKNOWN ERROR (303)\n",
      "2022-04-25 18:33:23.545934: I tensorflow/stream_executor/cuda/cuda_diagnostics.cc:156] kernel driver does not appear to be running on this host (16c147a04f9e): /proc/driver/nvidia/version does not exist\n",
      "2022-04-25 18:33:23.546855: I tensorflow/core/platform/cpu_feature_guard.cc:142] This TensorFlow binary is optimized with oneAPI Deep Neural Network Library (oneDNN) to use the following CPU instructions in performance-critical operations:  AVX2 FMA\n",
      "To enable them in other operations, rebuild TensorFlow with the appropriate compiler flags.\n"
     ]
    }
   ],
   "source": [
    "from tensorflow.keras import Input\n",
    "from tensorflow.keras.layers import Dense, Dropout, LSTM, Bidirectional, Flatten, GaussianNoise, Concatenate\n",
    "from tensorflow.keras import Model\n",
    "import tensorflow as tf\n",
    "from tensorflow.keras.initializers import GlorotNormal\n",
    "\n",
    "import numpy as np\n",
    "import tensorflow_addons as tfa\n",
    "\n",
    "\n",
    "\n",
    "def scale_fn(x):\n",
    "    return 1/(1.4**(x-1))\n",
    "\n",
    "\n",
    "CLR_SCHEDULE_DEFAULT = tfa.optimizers.CyclicalLearningRate(\n",
    "    initial_learning_rate=1e-6,\n",
    "    maximal_learning_rate=0.02,\n",
    "    scale_fn=scale_fn,\n",
    "    step_size=50\n",
    ")\n",
    "\n",
    "\n",
    "\n",
    "def get_model(input_shape, n_classes):\n",
    "    initializer = GlorotNormal()\n",
    "    sigma = 0.01\n",
    "    dropout = 0.5\n",
    "    \n",
    "    input_layer = Input(shape=input_shape)\n",
    "    x = GaussianNoise(sigma)(input_layer)\n",
    "    \n",
    "    x = Dense(32, kernel_initializer=initializer)(x)\n",
    "    x = GaussianNoise(sigma)(x)\n",
    "    x = Dropout(dropout)(x)\n",
    "    \n",
    "    x = Dense(32, kernel_initializer=initializer)(x)\n",
    "    x = GaussianNoise(sigma)(x)\n",
    "    x = Dropout(dropout)(x)\n",
    "    \n",
    "\n",
    "    output = Dense(n_classes, activation='softmax')(x)\n",
    "\n",
    "    model = Model(inputs=input_layer, outputs=output)\n",
    "\n",
    "    model.compile(\n",
    "        loss=tf.keras.losses.CategoricalCrossentropy(),\n",
    "        optimizer=tf.keras.optimizers.Adam(CLR_SCHEDULE_DEFAULT),\n",
    "        metrics=[tf.keras.metrics.CategoricalAccuracy()],\n",
    "    )\n",
    "\n",
    "    return model\n",
    "\n",
    "\n",
    "from sklearn.preprocessing import OneHotEncoder\n",
    "\n",
    "le = OneHotEncoder()\n",
    "Y_tr = le.fit_transform(df_tr['author'].values.reshape(-1,1))\n",
    "Y_ev = le.transform(df_ev['author'].values.reshape(-1,1))\n",
    "picklesave(le, dir_models / 'le.pkl')\n",
    "\n",
    "clf = get_model(input_shape=X_tr.shape[1], n_classes=Y_tr.shape[1])\n",
    "\n",
    "clf.summary()"
   ]
  },
  {
   "cell_type": "code",
   "execution_count": 22,
   "id": "05bf747b",
   "metadata": {},
   "outputs": [
    {
     "name": "stderr",
     "output_type": "stream",
     "text": [
      "2022-04-25 18:33:24.087654: W tensorflow/core/framework/cpu_allocator_impl.cc:80] Allocation of 397120000 exceeds 10% of free system memory.\n",
      "2022-04-25 18:33:24.362470: I tensorflow/compiler/mlir/mlir_graph_optimization_pass.cc:176] None of the MLIR Optimization Passes are enabled (registered 2)\n",
      "2022-04-25 18:33:24.369147: I tensorflow/core/platform/profile_utils/cpu_utils.cc:114] CPU Frequency: 2592005000 Hz\n"
     ]
    },
    {
     "name": "stdout",
     "output_type": "stream",
     "text": [
      "Epoch 1/1000\n",
      "532/532 [==============================] - 3s 4ms/step - loss: 0.5271 - categorical_accuracy: 0.8100 - val_loss: 0.2604 - val_categorical_accuracy: 0.9090\n",
      "Epoch 2/1000\n",
      "532/532 [==============================] - 2s 4ms/step - loss: 0.2972 - categorical_accuracy: 0.8972 - val_loss: 0.2268 - val_categorical_accuracy: 0.9212\n",
      "Epoch 3/1000\n",
      "532/532 [==============================] - 2s 5ms/step - loss: 0.2630 - categorical_accuracy: 0.9108 - val_loss: 0.2176 - val_categorical_accuracy: 0.9243\n",
      "Epoch 4/1000\n",
      "532/532 [==============================] - 2s 4ms/step - loss: 0.2538 - categorical_accuracy: 0.9141 - val_loss: 0.2163 - val_categorical_accuracy: 0.9238\n",
      "Epoch 5/1000\n",
      "532/532 [==============================] - 2s 4ms/step - loss: 0.2550 - categorical_accuracy: 0.9132 - val_loss: 0.2162 - val_categorical_accuracy: 0.9243\n",
      "Epoch 6/1000\n",
      "532/532 [==============================] - 2s 4ms/step - loss: 0.2558 - categorical_accuracy: 0.9113 - val_loss: 0.2162 - val_categorical_accuracy: 0.9245\n",
      "Epoch 7/1000\n",
      "532/532 [==============================] - 2s 5ms/step - loss: 0.2538 - categorical_accuracy: 0.9129 - val_loss: 0.2161 - val_categorical_accuracy: 0.9245\n",
      "Epoch 8/1000\n",
      "532/532 [==============================] - 2s 4ms/step - loss: 0.2546 - categorical_accuracy: 0.9095 - val_loss: 0.2160 - val_categorical_accuracy: 0.9245\n",
      "Epoch 9/1000\n",
      "532/532 [==============================] - 2s 4ms/step - loss: 0.2565 - categorical_accuracy: 0.9124 - val_loss: 0.2160 - val_categorical_accuracy: 0.9243\n",
      "Epoch 10/1000\n",
      "532/532 [==============================] - 2s 4ms/step - loss: 0.2546 - categorical_accuracy: 0.9122 - val_loss: 0.2160 - val_categorical_accuracy: 0.9243\n",
      "Epoch 11/1000\n",
      "532/532 [==============================] - 2s 4ms/step - loss: 0.2576 - categorical_accuracy: 0.9102 - val_loss: 0.2159 - val_categorical_accuracy: 0.9245\n",
      "Epoch 12/1000\n",
      "532/532 [==============================] - 2s 4ms/step - loss: 0.2528 - categorical_accuracy: 0.9119 - val_loss: 0.2159 - val_categorical_accuracy: 0.9248\n",
      "Epoch 13/1000\n",
      "532/532 [==============================] - 2s 4ms/step - loss: 0.2542 - categorical_accuracy: 0.9139 - val_loss: 0.2158 - val_categorical_accuracy: 0.9248\n",
      "Epoch 14/1000\n",
      "532/532 [==============================] - 2s 4ms/step - loss: 0.2531 - categorical_accuracy: 0.9123 - val_loss: 0.2158 - val_categorical_accuracy: 0.9248\n",
      "Epoch 15/1000\n",
      "532/532 [==============================] - 2s 4ms/step - loss: 0.2528 - categorical_accuracy: 0.9111 - val_loss: 0.2158 - val_categorical_accuracy: 0.9248\n",
      "Epoch 16/1000\n",
      "532/532 [==============================] - 2s 4ms/step - loss: 0.2552 - categorical_accuracy: 0.9113 - val_loss: 0.2158 - val_categorical_accuracy: 0.9248\n",
      "Epoch 17/1000\n",
      "532/532 [==============================] - 2s 4ms/step - loss: 0.2582 - categorical_accuracy: 0.9101 - val_loss: 0.2157 - val_categorical_accuracy: 0.9247\n",
      "Epoch 18/1000\n",
      "532/532 [==============================] - 2s 4ms/step - loss: 0.2497 - categorical_accuracy: 0.9140 - val_loss: 0.2157 - val_categorical_accuracy: 0.9248\n",
      "Epoch 19/1000\n",
      "532/532 [==============================] - 2s 4ms/step - loss: 0.2532 - categorical_accuracy: 0.9124 - val_loss: 0.2157 - val_categorical_accuracy: 0.9248\n",
      "Epoch 20/1000\n",
      "532/532 [==============================] - 2s 4ms/step - loss: 0.2527 - categorical_accuracy: 0.9126 - val_loss: 0.2156 - val_categorical_accuracy: 0.9248\n",
      "Epoch 21/1000\n",
      "532/532 [==============================] - 2s 4ms/step - loss: 0.2548 - categorical_accuracy: 0.9126 - val_loss: 0.2156 - val_categorical_accuracy: 0.9248\n",
      "Epoch 22/1000\n",
      "532/532 [==============================] - 2s 4ms/step - loss: 0.2551 - categorical_accuracy: 0.9110 - val_loss: 0.2155 - val_categorical_accuracy: 0.9248\n",
      "Epoch 23/1000\n",
      "532/532 [==============================] - 2s 4ms/step - loss: 0.2574 - categorical_accuracy: 0.9081 - val_loss: 0.2155 - val_categorical_accuracy: 0.9248\n",
      "Epoch 24/1000\n",
      "532/532 [==============================] - 2s 4ms/step - loss: 0.2576 - categorical_accuracy: 0.9117 - val_loss: 0.2155 - val_categorical_accuracy: 0.9247\n",
      "Epoch 25/1000\n",
      "532/532 [==============================] - 2s 4ms/step - loss: 0.2570 - categorical_accuracy: 0.9113 - val_loss: 0.2154 - val_categorical_accuracy: 0.9247\n",
      "Epoch 26/1000\n",
      "532/532 [==============================] - 2s 4ms/step - loss: 0.2529 - categorical_accuracy: 0.9125 - val_loss: 0.2153 - val_categorical_accuracy: 0.9247\n",
      "Epoch 27/1000\n",
      "532/532 [==============================] - 3s 5ms/step - loss: 0.2532 - categorical_accuracy: 0.9120 - val_loss: 0.2153 - val_categorical_accuracy: 0.9247\n",
      "Epoch 28/1000\n",
      "532/532 [==============================] - 2s 4ms/step - loss: 0.2549 - categorical_accuracy: 0.9116 - val_loss: 0.2153 - val_categorical_accuracy: 0.9247\n",
      "Epoch 29/1000\n",
      "532/532 [==============================] - 2s 4ms/step - loss: 0.2545 - categorical_accuracy: 0.9135 - val_loss: 0.2152 - val_categorical_accuracy: 0.9247\n",
      "Epoch 30/1000\n",
      "532/532 [==============================] - 3s 5ms/step - loss: 0.2530 - categorical_accuracy: 0.9126 - val_loss: 0.2152 - val_categorical_accuracy: 0.9247\n",
      "Epoch 31/1000\n",
      "532/532 [==============================] - 2s 4ms/step - loss: 0.2550 - categorical_accuracy: 0.9126 - val_loss: 0.2152 - val_categorical_accuracy: 0.9247\n",
      "Epoch 32/1000\n",
      "532/532 [==============================] - 3s 5ms/step - loss: 0.2525 - categorical_accuracy: 0.9118 - val_loss: 0.2151 - val_categorical_accuracy: 0.9248\n",
      "Epoch 33/1000\n",
      "532/532 [==============================] - 2s 4ms/step - loss: 0.2553 - categorical_accuracy: 0.9094 - val_loss: 0.2151 - val_categorical_accuracy: 0.9248\n",
      "Epoch 34/1000\n",
      "532/532 [==============================] - 2s 4ms/step - loss: 0.2516 - categorical_accuracy: 0.9134 - val_loss: 0.2151 - val_categorical_accuracy: 0.9248\n",
      "Epoch 35/1000\n",
      "532/532 [==============================] - 2s 4ms/step - loss: 0.2525 - categorical_accuracy: 0.9126 - val_loss: 0.2150 - val_categorical_accuracy: 0.9248\n",
      "Epoch 36/1000\n",
      "532/532 [==============================] - 2s 5ms/step - loss: 0.2521 - categorical_accuracy: 0.9113 - val_loss: 0.2150 - val_categorical_accuracy: 0.9248\n",
      "Epoch 37/1000\n",
      "532/532 [==============================] - 2s 4ms/step - loss: 0.2550 - categorical_accuracy: 0.9121 - val_loss: 0.2150 - val_categorical_accuracy: 0.9248\n",
      "Epoch 38/1000\n",
      "532/532 [==============================] - 3s 5ms/step - loss: 0.2520 - categorical_accuracy: 0.9134 - val_loss: 0.2149 - val_categorical_accuracy: 0.9248\n",
      "Epoch 39/1000\n",
      "532/532 [==============================] - 2s 4ms/step - loss: 0.2558 - categorical_accuracy: 0.9133 - val_loss: 0.2149 - val_categorical_accuracy: 0.9250\n",
      "Epoch 40/1000\n",
      "532/532 [==============================] - 3s 5ms/step - loss: 0.2528 - categorical_accuracy: 0.9144 - val_loss: 0.2149 - val_categorical_accuracy: 0.9250\n",
      "Epoch 41/1000\n",
      "532/532 [==============================] - 2s 4ms/step - loss: 0.2526 - categorical_accuracy: 0.9140 - val_loss: 0.2148 - val_categorical_accuracy: 0.9250\n",
      "Epoch 42/1000\n",
      "532/532 [==============================] - 2s 5ms/step - loss: 0.2537 - categorical_accuracy: 0.9111 - val_loss: 0.2148 - val_categorical_accuracy: 0.9248\n",
      "Epoch 43/1000\n",
      "532/532 [==============================] - 3s 6ms/step - loss: 0.2503 - categorical_accuracy: 0.9138 - val_loss: 0.2148 - val_categorical_accuracy: 0.9248\n",
      "Epoch 44/1000\n",
      "532/532 [==============================] - 2s 4ms/step - loss: 0.2539 - categorical_accuracy: 0.9118 - val_loss: 0.2147 - val_categorical_accuracy: 0.9248\n",
      "Epoch 45/1000\n",
      "532/532 [==============================] - 2s 4ms/step - loss: 0.2522 - categorical_accuracy: 0.9129 - val_loss: 0.2147 - val_categorical_accuracy: 0.9247\n",
      "Epoch 46/1000\n",
      "532/532 [==============================] - 2s 4ms/step - loss: 0.2499 - categorical_accuracy: 0.9131 - val_loss: 0.2146 - val_categorical_accuracy: 0.9247\n",
      "Epoch 47/1000\n",
      "532/532 [==============================] - 2s 4ms/step - loss: 0.2498 - categorical_accuracy: 0.9141 - val_loss: 0.2146 - val_categorical_accuracy: 0.9247\n",
      "Epoch 48/1000\n",
      "532/532 [==============================] - 2s 4ms/step - loss: 0.2557 - categorical_accuracy: 0.9127 - val_loss: 0.2146 - val_categorical_accuracy: 0.9247\n",
      "Epoch 49/1000\n"
     ]
    },
    {
     "name": "stdout",
     "output_type": "stream",
     "text": [
      "532/532 [==============================] - 2s 4ms/step - loss: 0.2561 - categorical_accuracy: 0.9105 - val_loss: 0.2146 - val_categorical_accuracy: 0.9247\n",
      "Epoch 50/1000\n",
      "532/532 [==============================] - 2s 4ms/step - loss: 0.2544 - categorical_accuracy: 0.9126 - val_loss: 0.2145 - val_categorical_accuracy: 0.9247\n",
      "Epoch 51/1000\n",
      "532/532 [==============================] - 2s 4ms/step - loss: 0.2542 - categorical_accuracy: 0.9123 - val_loss: 0.2145 - val_categorical_accuracy: 0.9245\n",
      "Epoch 52/1000\n",
      "532/532 [==============================] - 2s 4ms/step - loss: 0.2516 - categorical_accuracy: 0.9141 - val_loss: 0.2144 - val_categorical_accuracy: 0.9245\n",
      "Epoch 53/1000\n",
      "532/532 [==============================] - 2s 4ms/step - loss: 0.2529 - categorical_accuracy: 0.9119 - val_loss: 0.2144 - val_categorical_accuracy: 0.9245\n",
      "Epoch 54/1000\n",
      "532/532 [==============================] - 2s 4ms/step - loss: 0.2517 - categorical_accuracy: 0.9135 - val_loss: 0.2144 - val_categorical_accuracy: 0.9245\n",
      "Epoch 55/1000\n",
      "532/532 [==============================] - 2s 4ms/step - loss: 0.2573 - categorical_accuracy: 0.9131 - val_loss: 0.2143 - val_categorical_accuracy: 0.9245\n",
      "Epoch 56/1000\n",
      "532/532 [==============================] - 2s 4ms/step - loss: 0.2478 - categorical_accuracy: 0.9134 - val_loss: 0.2143 - val_categorical_accuracy: 0.9245\n",
      "Epoch 57/1000\n",
      "532/532 [==============================] - 2s 4ms/step - loss: 0.2544 - categorical_accuracy: 0.9123 - val_loss: 0.2143 - val_categorical_accuracy: 0.9245\n",
      "Epoch 58/1000\n",
      "532/532 [==============================] - 2s 4ms/step - loss: 0.2544 - categorical_accuracy: 0.9120 - val_loss: 0.2142 - val_categorical_accuracy: 0.9245\n",
      "Epoch 59/1000\n",
      "532/532 [==============================] - 3s 5ms/step - loss: 0.2548 - categorical_accuracy: 0.9111 - val_loss: 0.2142 - val_categorical_accuracy: 0.9245\n",
      "Epoch 60/1000\n",
      "532/532 [==============================] - 3s 5ms/step - loss: 0.2508 - categorical_accuracy: 0.9129 - val_loss: 0.2142 - val_categorical_accuracy: 0.9245\n",
      "Epoch 61/1000\n",
      "532/532 [==============================] - 2s 4ms/step - loss: 0.2477 - categorical_accuracy: 0.9147 - val_loss: 0.2141 - val_categorical_accuracy: 0.9245\n",
      "Epoch 62/1000\n",
      "532/532 [==============================] - 2s 4ms/step - loss: 0.2479 - categorical_accuracy: 0.9142 - val_loss: 0.2141 - val_categorical_accuracy: 0.9245\n",
      "Epoch 63/1000\n",
      "532/532 [==============================] - 3s 5ms/step - loss: 0.2534 - categorical_accuracy: 0.9135 - val_loss: 0.2141 - val_categorical_accuracy: 0.9245\n",
      "Epoch 64/1000\n",
      "532/532 [==============================] - 3s 6ms/step - loss: 0.2482 - categorical_accuracy: 0.9151 - val_loss: 0.2140 - val_categorical_accuracy: 0.9245\n",
      "Epoch 65/1000\n",
      "532/532 [==============================] - 2s 4ms/step - loss: 0.2534 - categorical_accuracy: 0.9129 - val_loss: 0.2140 - val_categorical_accuracy: 0.9245\n",
      "Epoch 66/1000\n",
      "532/532 [==============================] - 2s 4ms/step - loss: 0.2522 - categorical_accuracy: 0.9128 - val_loss: 0.2140 - val_categorical_accuracy: 0.9245\n",
      "Epoch 67/1000\n",
      "532/532 [==============================] - 2s 4ms/step - loss: 0.2517 - categorical_accuracy: 0.9133 - val_loss: 0.2140 - val_categorical_accuracy: 0.9245\n",
      "Epoch 68/1000\n",
      "532/532 [==============================] - 2s 4ms/step - loss: 0.2529 - categorical_accuracy: 0.9136 - val_loss: 0.2139 - val_categorical_accuracy: 0.9245\n",
      "Epoch 69/1000\n",
      "532/532 [==============================] - 2s 4ms/step - loss: 0.2526 - categorical_accuracy: 0.9124 - val_loss: 0.2139 - val_categorical_accuracy: 0.9245\n",
      "Epoch 70/1000\n",
      "532/532 [==============================] - 2s 4ms/step - loss: 0.2507 - categorical_accuracy: 0.9143 - val_loss: 0.2139 - val_categorical_accuracy: 0.9245\n",
      "Epoch 71/1000\n",
      "532/532 [==============================] - 3s 5ms/step - loss: 0.2525 - categorical_accuracy: 0.9139 - val_loss: 0.2138 - val_categorical_accuracy: 0.9245\n",
      "Epoch 72/1000\n",
      "532/532 [==============================] - 2s 5ms/step - loss: 0.2482 - categorical_accuracy: 0.9133 - val_loss: 0.2138 - val_categorical_accuracy: 0.9245\n",
      "Epoch 73/1000\n",
      "532/532 [==============================] - 2s 4ms/step - loss: 0.2526 - categorical_accuracy: 0.9126 - val_loss: 0.2138 - val_categorical_accuracy: 0.9245\n",
      "Epoch 74/1000\n",
      "532/532 [==============================] - 2s 4ms/step - loss: 0.2529 - categorical_accuracy: 0.9130 - val_loss: 0.2138 - val_categorical_accuracy: 0.9245\n",
      "Epoch 75/1000\n",
      "532/532 [==============================] - 2s 4ms/step - loss: 0.2513 - categorical_accuracy: 0.9125 - val_loss: 0.2137 - val_categorical_accuracy: 0.9245\n",
      "Epoch 76/1000\n",
      "532/532 [==============================] - 2s 4ms/step - loss: 0.2489 - categorical_accuracy: 0.9151 - val_loss: 0.2137 - val_categorical_accuracy: 0.9245\n",
      "Epoch 77/1000\n",
      "532/532 [==============================] - 2s 4ms/step - loss: 0.2525 - categorical_accuracy: 0.9139 - val_loss: 0.2136 - val_categorical_accuracy: 0.9248\n",
      "Epoch 78/1000\n",
      "532/532 [==============================] - 2s 4ms/step - loss: 0.2520 - categorical_accuracy: 0.9144 - val_loss: 0.2136 - val_categorical_accuracy: 0.9248\n",
      "Epoch 79/1000\n",
      "532/532 [==============================] - 2s 4ms/step - loss: 0.2486 - categorical_accuracy: 0.9132 - val_loss: 0.2136 - val_categorical_accuracy: 0.9248\n",
      "Epoch 80/1000\n",
      "532/532 [==============================] - 2s 4ms/step - loss: 0.2515 - categorical_accuracy: 0.9146 - val_loss: 0.2135 - val_categorical_accuracy: 0.9248\n",
      "Epoch 81/1000\n",
      "532/532 [==============================] - 2s 4ms/step - loss: 0.2500 - categorical_accuracy: 0.9142 - val_loss: 0.2135 - val_categorical_accuracy: 0.9248\n",
      "Epoch 82/1000\n",
      "532/532 [==============================] - 2s 4ms/step - loss: 0.2531 - categorical_accuracy: 0.9122 - val_loss: 0.2135 - val_categorical_accuracy: 0.9248\n",
      "Epoch 83/1000\n",
      "532/532 [==============================] - 3s 5ms/step - loss: 0.2498 - categorical_accuracy: 0.9121 - val_loss: 0.2135 - val_categorical_accuracy: 0.9248\n",
      "Epoch 84/1000\n",
      "532/532 [==============================] - 2s 4ms/step - loss: 0.2548 - categorical_accuracy: 0.9116 - val_loss: 0.2135 - val_categorical_accuracy: 0.9247\n",
      "Epoch 85/1000\n",
      "532/532 [==============================] - 2s 4ms/step - loss: 0.2489 - categorical_accuracy: 0.9131 - val_loss: 0.2134 - val_categorical_accuracy: 0.9247\n",
      "Epoch 86/1000\n",
      "532/532 [==============================] - 2s 4ms/step - loss: 0.2530 - categorical_accuracy: 0.9141 - val_loss: 0.2134 - val_categorical_accuracy: 0.9247\n",
      "Epoch 87/1000\n",
      "532/532 [==============================] - 2s 4ms/step - loss: 0.2472 - categorical_accuracy: 0.9149 - val_loss: 0.2133 - val_categorical_accuracy: 0.9247\n",
      "Epoch 88/1000\n",
      "532/532 [==============================] - 2s 4ms/step - loss: 0.2545 - categorical_accuracy: 0.9139 - val_loss: 0.2133 - val_categorical_accuracy: 0.9248\n",
      "Epoch 89/1000\n",
      "532/532 [==============================] - 2s 4ms/step - loss: 0.2512 - categorical_accuracy: 0.9139 - val_loss: 0.2132 - val_categorical_accuracy: 0.9250\n"
     ]
    },
    {
     "data": {
      "text/plain": [
       "<tensorflow.python.keras.callbacks.History at 0x7f92e9bd3890>"
      ]
     },
     "execution_count": 22,
     "metadata": {},
     "output_type": "execute_result"
    }
   ],
   "source": [
    "from tensorflow.keras.callbacks import (EarlyStopping, ModelCheckpoint,\n",
    "                                        ReduceLROnPlateau)\n",
    "callbacks = []\n",
    "callbacks.append(EarlyStopping(monitor='val_categorical_accuracy', patience=50, verbose=0, mode='max'))\n",
    "callbacks.append(ModelCheckpoint(dir_models / 'clf.h5', save_best_only=True, monitor='val_categorical_accuracy', mode='max', save_weights_only=False))\n",
    "\n",
    "        \n",
    "        \n",
    "clf.fit(\n",
    "    x=X_tr, # x\n",
    "    y=Y_tr.todense(), # y\n",
    "    batch_size=64,\n",
    "    epochs=1000,\n",
    "    validation_data=(\n",
    "        X_ev, # x\n",
    "        Y_ev.todense() # y\n",
    "    ),\n",
    "    callbacks=callbacks\n",
    ")"
   ]
  },
  {
   "cell_type": "code",
   "execution_count": 36,
   "id": "af16b92c",
   "metadata": {},
   "outputs": [],
   "source": [
    "from tensorflow.keras.models import load_model\n",
    "clf_best = load_model(dir_models / 'clf.h5', custom_objects={'scale_fn': scale_fn})"
   ]
  },
  {
   "cell_type": "code",
   "execution_count": 38,
   "id": "0ab39069",
   "metadata": {},
   "outputs": [],
   "source": [
    "from sklearn.metrics import classification_report\n",
    "\n",
    "Y_hat_tr = le.inverse_transform(clf_best.predict(X_tr))\n",
    "Y_hat_ev = le.inverse_transform(clf_best.predict(X_ev))"
   ]
  },
  {
   "cell_type": "code",
   "execution_count": null,
   "id": "d90e63bf",
   "metadata": {},
   "outputs": [],
   "source": []
  },
  {
   "cell_type": "code",
   "execution_count": null,
   "id": "a92f0caa",
   "metadata": {},
   "outputs": [],
   "source": []
  },
  {
   "cell_type": "code",
   "execution_count": 39,
   "id": "f503bbaf",
   "metadata": {},
   "outputs": [
    {
     "name": "stdout",
     "output_type": "stream",
     "text": [
      "              precision    recall  f1-score   support\n",
      "\n",
      "       defoe       0.97      0.98      0.97      8500\n",
      "     dickens       0.94      0.92      0.93      8500\n",
      "       doyle       0.94      0.95      0.94      8500\n",
      "       twain       0.93      0.93      0.93      8500\n",
      "\n",
      "    accuracy                           0.94     34000\n",
      "   macro avg       0.94      0.94      0.94     34000\n",
      "weighted avg       0.94      0.94      0.94     34000\n",
      "\n"
     ]
    }
   ],
   "source": [
    "from sklearn.metrics import classification_report\n",
    "print(classification_report(df_tr['author'], Y_hat_tr))"
   ]
  },
  {
   "cell_type": "code",
   "execution_count": 40,
   "id": "5b76e8e5",
   "metadata": {},
   "outputs": [
    {
     "name": "stdout",
     "output_type": "stream",
     "text": [
      "              precision    recall  f1-score   support\n",
      "\n",
      "       defoe       0.95      0.96      0.96      1500\n",
      "     dickens       0.93      0.89      0.91      1500\n",
      "       doyle       0.92      0.93      0.92      1500\n",
      "       twain       0.91      0.92      0.91      1500\n",
      "\n",
      "    accuracy                           0.93      6000\n",
      "   macro avg       0.93      0.93      0.92      6000\n",
      "weighted avg       0.93      0.93      0.92      6000\n",
      "\n"
     ]
    }
   ],
   "source": [
    "from sklearn.metrics import classification_report\n",
    "print(classification_report(df_ev['author'], Y_hat_ev))"
   ]
  },
  {
   "cell_type": "code",
   "execution_count": 29,
   "id": "2a312da8",
   "metadata": {},
   "outputs": [
    {
     "name": "stdout",
     "output_type": "stream",
     "text": [
      "Normalized confusion matrix\n"
     ]
    },
    {
     "data": {
      "text/plain": [
       "<matplotlib.axes._subplots.AxesSubplot at 0x7f9319de1110>"
      ]
     },
     "execution_count": 29,
     "metadata": {},
     "output_type": "execute_result"
    },
    {
     "data": {
      "image/png": "[encoded data removed]",
      "text/plain": [
       "<Figure size 576x576 with 2 Axes>"
      ]
     },
     "metadata": {
      "needs_background": "light"
     },
     "output_type": "display_data"
    }
   ],
   "source": [
    "from author_classification.confusion_matrix import plot_cm\n",
    "plot_cm(df_ev['author'], Y_hat_ev.flatten())"
   ]
  },
  {
   "cell_type": "code",
   "execution_count": null,
   "id": "f22c5f84",
   "metadata": {},
   "outputs": [],
   "source": [
    "# Show some examples of bad classifications (eval)"
   ]
  },
  {
   "cell_type": "code",
   "execution_count": 30,
   "id": "5b5a18de",
   "metadata": {},
   "outputs": [
    {
     "name": "stderr",
     "output_type": "stream",
     "text": [
      "/usr/local/lib/python3.7/dist-packages/ipykernel_launcher.py:1: SettingWithCopyWarning: \n",
      "A value is trying to be set on a copy of a slice from a DataFrame.\n",
      "Try using .loc[row_indexer,col_indexer] = value instead\n",
      "\n",
      "See the caveats in the documentation: https://pandas.pydata.org/pandas-docs/stable/user_guide/indexing.html#returning-a-view-versus-a-copy\n",
      "  \"\"\"Entry point for launching an IPython kernel.\n"
     ]
    }
   ],
   "source": [
    "df_ev['author_predicted'] = Y_hat_ev"
   ]
  },
  {
   "cell_type": "code",
   "execution_count": 32,
   "id": "70f7e56f",
   "metadata": {},
   "outputs": [
    {
     "data": {
      "text/html": [
       "<div>\n",
       "<style scoped>\n",
       "    .dataframe tbody tr th:only-of-type {\n",
       "        vertical-align: middle;\n",
       "    }\n",
       "\n",
       "    .dataframe tbody tr th {\n",
       "        vertical-align: top;\n",
       "    }\n",
       "\n",
       "    .dataframe thead th {\n",
       "        text-align: right;\n",
       "    }\n",
       "</style>\n",
       "<table border=\"1\" class=\"dataframe\">\n",
       "  <thead>\n",
       "    <tr style=\"text-align: right;\">\n",
       "      <th></th>\n",
       "      <th>text</th>\n",
       "      <th>author</th>\n",
       "      <th>author_predicted</th>\n",
       "    </tr>\n",
       "    <tr>\n",
       "      <th>index</th>\n",
       "      <th></th>\n",
       "      <th></th>\n",
       "      <th></th>\n",
       "    </tr>\n",
       "  </thead>\n",
       "  <tbody>\n",
       "    <tr>\n",
       "      <th>9626</th>\n",
       "      <td>\\n\\nI immediately cut the twisted flags or rushes which they had bound him\\nwith, and would have helped him up; but he could not stand or speak,\\nbut groaned most piteously, believing, it seems, still, that he was\\nonly unbound in order to be killed</td>\n",
       "      <td>defoe</td>\n",
       "      <td>twain</td>\n",
       "    </tr>\n",
       "    <tr>\n",
       "      <th>7562</th>\n",
       "      <td>A young\\nman, anxious for other reasons to marry, is sometimes heard to express\\nhis conviction that he might live more cheaply married than single. \\nThere could be no assertion more inconsistent with all common\\nexperience</td>\n",
       "      <td>defoe</td>\n",
       "      <td>doyle</td>\n",
       "    </tr>\n",
       "    <tr>\n",
       "      <th>10538</th>\n",
       "      <td>Better not to mention the subject,\\nanywhere or in any way, and to remove him--for a while at all\\nevents--out of France.  Even I, safe as an Englishman, and even\\nTellson’s, important as they are to French credit, avoid all naming of\\nthe matter</td>\n",
       "      <td>dickens</td>\n",
       "      <td>twain</td>\n",
       "    </tr>\n",
       "    <tr>\n",
       "      <th>16719</th>\n",
       "      <td>I had found sublimity and wonder in the dread\\nheights and precipices, in the roaring torrents, and the wastes of ice\\nand snow; but as yet, they had taught me nothing else. \\n\\nI came, one evening before sunset, down into a valley, where I was to\\nrest</td>\n",
       "      <td>dickens</td>\n",
       "      <td>twain</td>\n",
       "    </tr>\n",
       "    <tr>\n",
       "      <th>22094</th>\n",
       "      <td>\\n\\n“I had gone up to town about an investment, and I met him in Regent\\nStreet with hardly a coat to his back or a boot to his foot. \\n\\n“‘Here we are, Jack,’ says he, touching me on the arm; ‘we’ll be as\\ngood as a family to you</td>\n",
       "      <td>doyle</td>\n",
       "      <td>dickens</td>\n",
       "    </tr>\n",
       "    <tr>\n",
       "      <th>24149</th>\n",
       "      <td>‘I want you, Mr.  McFarlane, to cast\\n      it into proper legal shape.  I will sit here while you do so. ’\\n\\n      “I set myself to copy it, and you can imagine my astonishment\\n      when I found that, with some reservations, he had left all his\\n      property to me</td>\n",
       "      <td>doyle</td>\n",
       "      <td>dickens</td>\n",
       "    </tr>\n",
       "    <tr>\n",
       "      <th>30647</th>\n",
       "      <td>Such is\\nthe legend.  Two frame houses were built that year, and several persons\\nwere added to the population.  A recent number of the leading St.  Paul\\npaper, the 'Pioneer Press,' gives some statistics which furnish a vivid\\ncontrast to that old state of things, to wit: Population, autumn of the\\npresent year (1882), 71,000; number of letters handled, first half of\\nthe year, 1,209,387; number of houses built during three-quarters of\\nthe year, 989; their cost, $3,186,000</td>\n",
       "      <td>twain</td>\n",
       "      <td>defoe</td>\n",
       "    </tr>\n",
       "    <tr>\n",
       "      <th>35674</th>\n",
       "      <td>She became a great favorite with the heads of the\\nchurch, and also the people, though she seldom appeared in public.   She\\nrapidly advanced in esteem, in good report, and in usefulness, and\\nAbelard as rapidly lost ground</td>\n",
       "      <td>twain</td>\n",
       "      <td>dickens</td>\n",
       "    </tr>\n",
       "  </tbody>\n",
       "</table>\n",
       "</div>"
      ],
      "text/plain": [
       "                                                                                                                                                                                                                                                                                                                                                                                                                                                                                                   text  \\\n",
       "index                                                                                                                                                                                                                                                                                                                                                                                                                                                                                                     \n",
       "9626                                                                                                                                                                                                                                          \\n\\nI immediately cut the twisted flags or rushes which they had bound him\\nwith, and would have helped him up; but he could not stand or speak,\\nbut groaned most piteously, believing, it seems, still, that he was\\nonly unbound in order to be killed   \n",
       "7562                                                                                                                                                                                                                                                                   A young\\nman, anxious for other reasons to marry, is sometimes heard to express\\nhis conviction that he might live more cheaply married than single. \\nThere could be no assertion more inconsistent with all common\\nexperience   \n",
       "10538                                                                                                                                                                                                                                            Better not to mention the subject,\\nanywhere or in any way, and to remove him--for a while at all\\nevents--out of France.  Even I, safe as an Englishman, and even\\nTellson’s, important as they are to French credit, avoid all naming of\\nthe matter   \n",
       "16719                                                                                                                                                                                                                                     I had found sublimity and wonder in the dread\\nheights and precipices, in the roaring torrents, and the wastes of ice\\nand snow; but as yet, they had taught me nothing else. \\n\\nI came, one evening before sunset, down into a valley, where I was to\\nrest   \n",
       "22094                                                                                                                                                                                                                                                            \\n\\n“I had gone up to town about an investment, and I met him in Regent\\nStreet with hardly a coat to his back or a boot to his foot. \\n\\n“‘Here we are, Jack,’ says he, touching me on the arm; ‘we’ll be as\\ngood as a family to you   \n",
       "24149                                                                                                                                                                                                                    ‘I want you, Mr.  McFarlane, to cast\\n      it into proper legal shape.  I will sit here while you do so. ’\\n\\n      “I set myself to copy it, and you can imagine my astonishment\\n      when I found that, with some reservations, he had left all his\\n      property to me   \n",
       "30647   Such is\\nthe legend.  Two frame houses were built that year, and several persons\\nwere added to the population.  A recent number of the leading St.  Paul\\npaper, the 'Pioneer Press,' gives some statistics which furnish a vivid\\ncontrast to that old state of things, to wit: Population, autumn of the\\npresent year (1882), 71,000; number of letters handled, first half of\\nthe year, 1,209,387; number of houses built during three-quarters of\\nthe year, 989; their cost, $3,186,000   \n",
       "35674                                                                                                                                                                                                                                                                   She became a great favorite with the heads of the\\nchurch, and also the people, though she seldom appeared in public.   She\\nrapidly advanced in esteem, in good report, and in usefulness, and\\nAbelard as rapidly lost ground   \n",
       "\n",
       "        author author_predicted  \n",
       "index                            \n",
       "9626     defoe            twain  \n",
       "7562     defoe            doyle  \n",
       "10538  dickens            twain  \n",
       "16719  dickens            twain  \n",
       "22094    doyle          dickens  \n",
       "24149    doyle          dickens  \n",
       "30647    twain            defoe  \n",
       "35674    twain          dickens  "
      ]
     },
     "metadata": {},
     "output_type": "display_data"
    }
   ],
   "source": [
    "with pd.option_context('display.max_colwidth', None):\n",
    "    display(df_ev[df_ev['author'] != df_ev['author_predicted']].groupby('author').sample(2, random_state=288)[['text', 'author', 'author_predicted']])"
   ]
  },
  {
   "cell_type": "code",
   "execution_count": null,
   "id": "4d854665",
   "metadata": {},
   "outputs": [],
   "source": []
  }
 ],
 "metadata": {
  "kernelspec": {
   "display_name": "Python 3 (ipykernel)",
   "language": "python",
   "name": "python3"
  },
  "language_info": {
   "codemirror_mode": {
    "name": "ipython",
    "version": 3
   },
   "file_extension": ".py",
   "mimetype": "text/x-python",
   "name": "python",
   "nbconvert_exporter": "python",
   "pygments_lexer": "ipython3",
   "version": "3.7.10"
  },
  "toc": {
   "base_numbering": 1,
   "nav_menu": {},
   "number_sections": true,
   "sideBar": true,
   "skip_h1_title": false,
   "title_cell": "Table of Contents",
   "title_sidebar": "Contents",
   "toc_cell": false,
   "toc_position": {},
   "toc_section_display": true,
   "toc_window_display": false
  }
 },
 "nbformat": 4,
 "nbformat_minor": 5
}
