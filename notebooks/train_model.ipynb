{
 "cells": [
  {
   "cell_type": "code",
   "execution_count": 1,
   "id": "5a7c6b3a",
   "metadata": {},
   "outputs": [
    {
     "data": {
      "text/html": [
       "<style>.container { width:80% !important; }</style>"
      ],
      "text/plain": [
       "<IPython.core.display.HTML object>"
      ]
     },
     "metadata": {},
     "output_type": "display_data"
    }
   ],
   "source": [
    "%load_ext autoreload\n",
    "%autoreload 2\n",
    "\n",
    "import os\n",
    "from pathlib import Path\n",
    "import numpy as np\n",
    "\n",
    "from IPython.display import display, HTML\n",
    "display(HTML(\"<style>.container { width:80% !important; }</style>\"))\n",
    "\n",
    "# Override/set credentials in env var\n",
    "os.environ['CWD'] = str(Path(os.getcwd()).parent)\n",
    "\n",
    "# Base paths\n",
    "cwd = Path(os.environ['CWD'])\n",
    "dir_data = cwd / 'data'\n",
    "dir_models = cwd / 'models'\n",
    "dir_models.mkdir(exist_ok=True, parents=True)\n",
    "\n",
    "\n",
    "import pickle\n",
    "def picklesave(o, f):\n",
    "    with open(f, 'wb') as fp:\n",
    "        pickle.dump(o, fp)\n",
    "        \n",
    "def pickleload(f):\n",
    "    with open(f, 'rb') as fp:\n",
    "        return pickle.load(fp)\n",
    "\n",
    "\n",
    "from tqdm import tqdm \n",
    "tqdm.pandas()"
   ]
  },
  {
   "cell_type": "markdown",
   "id": "b18a15b7",
   "metadata": {},
   "source": [
    "# Load data"
   ]
  },
  {
   "cell_type": "code",
   "execution_count": 3,
   "id": "4b8d4743",
   "metadata": {},
   "outputs": [],
   "source": [
    "import pandas as pd\n",
    "\n",
    "df_tr_ev = pd.read_csv(dir_data / 'train.csv')\n",
    "df_tr_ev['split'] = 'tr'\n",
    "df_te = pd.read_csv(dir_data / 'test.csv')\n",
    "df_te['split'] = 'te'\n",
    "\n",
    "df = pd.concat([df_tr_ev, df_te])"
   ]
  },
  {
   "cell_type": "markdown",
   "id": "9482ce3d",
   "metadata": {},
   "source": [
    "# Feature Extraction"
   ]
  },
  {
   "cell_type": "markdown",
   "id": "2427e04c",
   "metadata": {},
   "source": [
    "## Set punctuation features (statistics) from unprocessed texts"
   ]
  },
  {
   "cell_type": "code",
   "execution_count": 4,
   "id": "99b6b433",
   "metadata": {},
   "outputs": [
    {
     "name": "stderr",
     "output_type": "stream",
     "text": [
      "2022-04-26 18:09:44.342001: W tensorflow/stream_executor/platform/default/dso_loader.cc:64] Could not load dynamic library 'libcudart.so.11.0'; dlerror: libcudart.so.11.0: cannot open shared object file: No such file or directory\n",
      "2022-04-26 18:09:44.342045: I tensorflow/stream_executor/cuda/cudart_stub.cc:29] Ignore above cudart dlerror if you do not have a GPU set up on your machine.\n",
      "100%|███████████████████████████████████| 40000/40000 [00:09<00:00, 4442.68it/s]\n"
     ]
    }
   ],
   "source": [
    "from author_classification.feature_extraction import get_text_punctuation_stat_features\n",
    "df_tr_ev['dict_punct_features'] = df_tr_ev['text'].progress_apply(get_text_punctuation_stat_features)\n",
    "\n",
    "# Put each punctuation feature in a column in the dataframe\n",
    "from author_classification.utils import expand_col_dicts\n",
    "df_tr_ev = expand_col_dicts(df_tr_ev, colname_dict='dict_punct_features')"
   ]
  },
  {
   "cell_type": "markdown",
   "id": "55b94dd3",
   "metadata": {},
   "source": [
    "## Sentiment and readability from unprocessed texts"
   ]
  },
  {
   "cell_type": "code",
   "execution_count": 5,
   "id": "5c905152",
   "metadata": {},
   "outputs": [
    {
     "name": "stderr",
     "output_type": "stream",
     "text": [
      "100%|███████████████████████████████████████████| 15/15 [00:46<00:00,  3.12s/it]\n",
      "100%|███████████████████████████████████| 40000/40000 [00:17<00:00, 2349.47it/s]\n"
     ]
    }
   ],
   "source": [
    "from author_classification.feature_extraction import (\n",
    "    set_text_readability_statistics, set_text_polarity_subjectivity, LIST_TUPLES_READABILITY_STATISTICS\n",
    ")\n",
    "df_tr_ev = set_text_readability_statistics(df_tr_ev, colname_text='text')\n",
    "df_tr_ev = set_text_polarity_subjectivity(df_tr_ev, colname_text='text')"
   ]
  },
  {
   "cell_type": "markdown",
   "id": "be548b58",
   "metadata": {},
   "source": [
    "## Preprocess texts"
   ]
  },
  {
   "cell_type": "code",
   "execution_count": 6,
   "id": "ddb2c3c6",
   "metadata": {},
   "outputs": [
    {
     "name": "stderr",
     "output_type": "stream",
     "text": [
      "100%|████████████████████████████████████| 40000/40000 [03:04<00:00, 216.84it/s]\n"
     ]
    }
   ],
   "source": [
    "# Preprocess text\n",
    "from author_classification.preprocessing import preprocess_text\n",
    "# We should also make another column\n",
    "df_tr_ev['text_processed'] = df_tr_ev['text'].progress_apply(lambda txt: preprocess_text(txt, lemmatize=True))"
   ]
  },
  {
   "cell_type": "markdown",
   "id": "9406c26c",
   "metadata": {},
   "source": [
    "## n-grams"
   ]
  },
  {
   "cell_type": "markdown",
   "id": "02534713",
   "metadata": {},
   "source": [
    "### Split dataset now to avoid data leakage in tfidf and tsvd"
   ]
  },
  {
   "cell_type": "code",
   "execution_count": 7,
   "id": "bdee6053",
   "metadata": {},
   "outputs": [],
   "source": [
    "from sklearn.model_selection import train_test_split\n",
    "df_tr, df_ev = train_test_split(df_tr_ev, test_size=0.15, stratify=df_tr_ev['author'], random_state=288)"
   ]
  },
  {
   "cell_type": "markdown",
   "id": "28b49e30",
   "metadata": {},
   "source": [
    "### Char-level tfidf on unprocessed texts\n",
    "Capture fine-grain char-level features"
   ]
  },
  {
   "cell_type": "code",
   "execution_count": 8,
   "id": "7acf4024",
   "metadata": {},
   "outputs": [
    {
     "name": "stdout",
     "output_type": "stream",
     "text": [
      "61903 features\n"
     ]
    }
   ],
   "source": [
    "from sklearn.feature_extraction.text import TfidfVectorizer\n",
    "tfidf_char = TfidfVectorizer(\n",
    "    ngram_range=(1,5),\n",
    "    analyzer='char',\n",
    "    min_df=40,\n",
    "    max_df=0.7\n",
    ")\n",
    "\n",
    "X_tfidf_char_tr = tfidf_char.fit_transform(df_tr['text']).astype(np.float32)\n",
    "print(f'{len(tfidf_char.vocabulary_)} features')\n",
    "X_tfidf_char_ev = tfidf_char.transform(df_ev['text']).astype(np.float32)\n",
    "\n",
    "picklesave(tfidf_char, dir_models / 'tfidf_char.pkl')"
   ]
  },
  {
   "cell_type": "markdown",
   "id": "412c1235",
   "metadata": {},
   "source": [
    "### Reduce dimensionality with TSVD"
   ]
  },
  {
   "cell_type": "code",
   "execution_count": 9,
   "id": "ad3edae9",
   "metadata": {},
   "outputs": [
    {
     "name": "stdout",
     "output_type": "stream",
     "text": [
      "Cumulative sum of explained variance ratio kept by tsvd_char: 0.4212000072002411\n"
     ]
    }
   ],
   "source": [
    "from sklearn.decomposition import TruncatedSVD\n",
    "\n",
    "tsvd_char = TruncatedSVD(n_components=1000, random_state=288)\n",
    "X_tfidf_char_tsvd_tr = tsvd_char.fit_transform(X_tfidf_char_tr)\n",
    "print(f'Cumulative sum of explained variance ratio kept by tsvd_char: {round(tsvd_char.explained_variance_ratio_.cumsum()[-1], 4)}')\n",
    "X_tfidf_char_tsvd_ev = tsvd_char.transform(X_tfidf_char_ev)\n",
    "\n",
    "picklesave(tsvd_char, dir_models / 'tsvd_char.pkl')"
   ]
  },
  {
   "cell_type": "markdown",
   "id": "b8de1627",
   "metadata": {},
   "source": [
    "### Word-level tfidf on processed texts\n",
    "Capture coarse-grained word-level features, relations between words, etc."
   ]
  },
  {
   "cell_type": "markdown",
   "id": "b3f12a3e",
   "metadata": {},
   "source": [
    "#### Fit word-level tfidf"
   ]
  },
  {
   "cell_type": "code",
   "execution_count": 10,
   "id": "3ecce859",
   "metadata": {},
   "outputs": [
    {
     "name": "stdout",
     "output_type": "stream",
     "text": [
      "29243 features\n"
     ]
    }
   ],
   "source": [
    "from sklearn.feature_extraction.text import TfidfVectorizer\n",
    "tfidf_word = TfidfVectorizer(\n",
    "    ngram_range=(1,2),\n",
    "    analyzer='word',\n",
    "    min_df=5,\n",
    "    max_df=0.7\n",
    ")\n",
    "\n",
    "X_tfidf_word_tr = tfidf_word.fit_transform(df_tr['text_processed']).astype(np.float32)\n",
    "print(f'{len(tfidf_word.vocabulary_)} features')\n",
    "X_tfidf_word_ev = tfidf_word.transform(df_ev['text_processed']).astype(np.float32)\n",
    "\n",
    "picklesave(tfidf_word, dir_models / 'tfidf_word.pkl')"
   ]
  },
  {
   "cell_type": "markdown",
   "id": "8961f14a",
   "metadata": {},
   "source": [
    "### Reduce dimensionality with TSVD"
   ]
  },
  {
   "cell_type": "code",
   "execution_count": 11,
   "id": "c9dd0e6a",
   "metadata": {},
   "outputs": [
    {
     "name": "stdout",
     "output_type": "stream",
     "text": [
      "Cumulative sum of explained variance ratio kept by tsvd_word: 0.44040000438690186\n"
     ]
    }
   ],
   "source": [
    "from sklearn.decomposition import TruncatedSVD\n",
    "tsvd_word = TruncatedSVD(n_components=1500, random_state=288)\n",
    "X_tfidf_word_tsvd_tr = tsvd_word.fit_transform(X_tfidf_word_tr)\n",
    "print(f'Cumulative sum of explained variance ratio kept by tsvd_word: {round(tsvd_word.explained_variance_ratio_.cumsum()[-1], 4)}')\n",
    "X_tfidf_word_tsvd_ev = tsvd_word.transform(X_tfidf_word_ev)\n",
    "\n",
    "picklesave(tsvd_word, dir_models / 'tsvd_word.pkl')"
   ]
  },
  {
   "cell_type": "markdown",
   "id": "be4588d5",
   "metadata": {},
   "source": [
    "# Preparing data to train + eval"
   ]
  },
  {
   "cell_type": "markdown",
   "id": "f90b82db",
   "metadata": {},
   "source": [
    "## Get punctuation, sentiment and readability feature vectors for each sample"
   ]
  },
  {
   "cell_type": "code",
   "execution_count": 12,
   "id": "610b8a6c",
   "metadata": {},
   "outputs": [],
   "source": [
    "from author_classification.feature_extraction import get_feature_matrix_from_dataframe_with_feature_columns\n",
    "\n",
    "X_tr_stats = get_feature_matrix_from_dataframe_with_feature_columns(df_tr)\n",
    "X_ev_stats = get_feature_matrix_from_dataframe_with_feature_columns(df_ev)"
   ]
  },
  {
   "cell_type": "markdown",
   "id": "4e6539e2",
   "metadata": {},
   "source": [
    "### Scale these punctuation, sentiment and readability features as they are independent of each other (we are not interested in the angle defined by these)"
   ]
  },
  {
   "cell_type": "code",
   "execution_count": 13,
   "id": "4072cdf0",
   "metadata": {},
   "outputs": [],
   "source": [
    "from sklearn.preprocessing import RobustScaler\n",
    "scaler = RobustScaler()\n",
    "X_tr_stats_scaled = scaler.fit_transform(X_tr_stats)\n",
    "X_ev_stats_scaled = scaler.transform(X_ev_stats)\n",
    "picklesave(scaler, dir_models / 'scaler.pkl')"
   ]
  },
  {
   "cell_type": "markdown",
   "id": "2450e09e",
   "metadata": {},
   "source": [
    "## Extract sentence vectors with pretrained model for Sentence Similarity\n",
    "This is to also help the model capture the semantic features of the passages"
   ]
  },
  {
   "cell_type": "code",
   "execution_count": 14,
   "id": "8139b033",
   "metadata": {},
   "outputs": [
    {
     "data": {
      "application/vnd.jupyter.widget-view+json": {
       "model_id": "26f225e8e5574a40889fde1802c83f29",
       "version_major": 2,
       "version_minor": 0
      },
      "text/plain": [
       "Batches:   0%|          | 0/1063 [00:00<?, ?it/s]"
      ]
     },
     "metadata": {},
     "output_type": "display_data"
    },
    {
     "data": {
      "application/vnd.jupyter.widget-view+json": {
       "model_id": "c9d72f74c63142e08c01d83490ed0ac8",
       "version_major": 2,
       "version_minor": 0
      },
      "text/plain": [
       "Batches:   0%|          | 0/188 [00:00<?, ?it/s]"
      ]
     },
     "metadata": {},
     "output_type": "display_data"
    }
   ],
   "source": [
    "from sentence_transformers import SentenceTransformer\n",
    "model_sent_embs = SentenceTransformer('all-MiniLM-L6-v2')\n",
    "X_sentembs_tr = model_sent_embs.encode(df_tr['text'].values, show_progress_bar=True)\n",
    "X_sentembs_ev = model_sent_embs.encode(df_ev['text'].values, show_progress_bar=True)"
   ]
  },
  {
   "cell_type": "markdown",
   "id": "d9e4d64f",
   "metadata": {},
   "source": [
    "## Concatenate all features\n",
    "Concatenated features consist of:\n",
    "- Character features\n",
    "- Word features\n",
    "- Punctuation, sentiment and readability features\n",
    "- Semantic embeddings"
   ]
  },
  {
   "cell_type": "code",
   "execution_count": 15,
   "id": "1a2461ca",
   "metadata": {},
   "outputs": [],
   "source": [
    "X_tr = np.hstack([X_tr_stats_scaled, X_tfidf_char_tsvd_tr, X_tfidf_word_tsvd_tr, X_sentembs_tr])\n",
    "X_ev = np.hstack([X_ev_stats_scaled, X_tfidf_char_tsvd_ev, X_tfidf_word_tsvd_ev, X_sentembs_ev])"
   ]
  },
  {
   "cell_type": "markdown",
   "id": "d4d143a5",
   "metadata": {},
   "source": [
    "## Preprocess labels for keras"
   ]
  },
  {
   "cell_type": "code",
   "execution_count": 16,
   "id": "da51b061",
   "metadata": {},
   "outputs": [],
   "source": [
    "from sklearn.preprocessing import OneHotEncoder\n",
    "le = OneHotEncoder()\n",
    "Y_tr = le.fit_transform(df_tr['author'].values.reshape(-1,1))\n",
    "Y_ev = le.transform(df_ev['author'].values.reshape(-1,1))\n",
    "# Save label encoder too to use it when inferring\n",
    "picklesave(le, dir_models / 'le.pkl')"
   ]
  },
  {
   "cell_type": "markdown",
   "id": "81adcbf5",
   "metadata": {},
   "source": [
    "# Training the model"
   ]
  },
  {
   "cell_type": "markdown",
   "id": "182c0d7c",
   "metadata": {},
   "source": [
    "## Get model"
   ]
  },
  {
   "cell_type": "code",
   "execution_count": 17,
   "id": "bf5dc591",
   "metadata": {},
   "outputs": [
    {
     "name": "stdout",
     "output_type": "stream",
     "text": [
      "Model: \"model\"\n",
      "_________________________________________________________________\n",
      "Layer (type)                 Output Shape              Param #   \n",
      "=================================================================\n",
      "input_1 (InputLayer)         [(None, 2920)]            0         \n",
      "_________________________________________________________________\n",
      "gaussian_noise (GaussianNois (None, 2920)              0         \n",
      "_________________________________________________________________\n",
      "dense (Dense)                (None, 32)                93472     \n",
      "_________________________________________________________________\n",
      "gaussian_noise_1 (GaussianNo (None, 32)                0         \n",
      "_________________________________________________________________\n",
      "dropout (Dropout)            (None, 32)                0         \n",
      "_________________________________________________________________\n",
      "dense_1 (Dense)              (None, 32)                1056      \n",
      "_________________________________________________________________\n",
      "gaussian_noise_2 (GaussianNo (None, 32)                0         \n",
      "_________________________________________________________________\n",
      "dropout_1 (Dropout)          (None, 32)                0         \n",
      "_________________________________________________________________\n",
      "dense_2 (Dense)              (None, 4)                 132       \n",
      "=================================================================\n",
      "Total params: 94,660\n",
      "Trainable params: 94,660\n",
      "Non-trainable params: 0\n",
      "_________________________________________________________________\n"
     ]
    },
    {
     "name": "stderr",
     "output_type": "stream",
     "text": [
      "2022-04-26 18:32:58.118063: W tensorflow/stream_executor/platform/default/dso_loader.cc:64] Could not load dynamic library 'libcuda.so.1'; dlerror: libcuda.so.1: cannot open shared object file: No such file or directory\n",
      "2022-04-26 18:32:58.118108: W tensorflow/stream_executor/cuda/cuda_driver.cc:326] failed call to cuInit: UNKNOWN ERROR (303)\n",
      "2022-04-26 18:32:58.118130: I tensorflow/stream_executor/cuda/cuda_diagnostics.cc:156] kernel driver does not appear to be running on this host (16c147a04f9e): /proc/driver/nvidia/version does not exist\n",
      "2022-04-26 18:32:58.118286: I tensorflow/core/platform/cpu_feature_guard.cc:142] This TensorFlow binary is optimized with oneAPI Deep Neural Network Library (oneDNN) to use the following CPU instructions in performance-critical operations:  AVX2 FMA\n",
      "To enable them in other operations, rebuild TensorFlow with the appropriate compiler flags.\n"
     ]
    }
   ],
   "source": [
    "from author_classification.modeling import get_model\n",
    "clf = get_model(input_shape=X_tr.shape[1], n_classes=Y_tr.shape[1])\n",
    "clf.summary()"
   ]
  },
  {
   "cell_type": "markdown",
   "id": "653f480f",
   "metadata": {},
   "source": [
    "## Fit model"
   ]
  },
  {
   "cell_type": "code",
   "execution_count": 18,
   "id": "3aaeb3fa",
   "metadata": {},
   "outputs": [
    {
     "name": "stderr",
     "output_type": "stream",
     "text": [
      "2022-04-26 18:32:58.608921: W tensorflow/core/framework/cpu_allocator_impl.cc:80] Allocation of 397120000 exceeds 10% of free system memory.\n",
      "2022-04-26 18:32:59.087677: I tensorflow/compiler/mlir/mlir_graph_optimization_pass.cc:176] None of the MLIR Optimization Passes are enabled (registered 2)\n",
      "2022-04-26 18:32:59.093510: I tensorflow/core/platform/profile_utils/cpu_utils.cc:114] CPU Frequency: 2592005000 Hz\n"
     ]
    },
    {
     "name": "stdout",
     "output_type": "stream",
     "text": [
      "Epoch 1/1000\n",
      "532/532 [==============================] - 3s 4ms/step - loss: 0.5079 - categorical_accuracy: 0.8175 - val_loss: 0.2622 - val_categorical_accuracy: 0.8998\n"
     ]
    },
    {
     "name": "stderr",
     "output_type": "stream",
     "text": [
      "2022-04-26 18:33:01.647118: W tensorflow/core/framework/cpu_allocator_impl.cc:80] Allocation of 70080000 exceeds 10% of free system memory.\n"
     ]
    },
    {
     "name": "stdout",
     "output_type": "stream",
     "text": [
      "Epoch 2/1000\n",
      "532/532 [==============================] - 2s 4ms/step - loss: 0.2858 - categorical_accuracy: 0.9014 - val_loss: 0.2226 - val_categorical_accuracy: 0.9180\n",
      "Epoch 3/1000\n",
      "532/532 [==============================] - 2s 3ms/step - loss: 0.2545 - categorical_accuracy: 0.9117 - val_loss: 0.2159 - val_categorical_accuracy: 0.9205\n",
      "Epoch 4/1000\n",
      "532/532 [==============================] - 2s 4ms/step - loss: 0.2482 - categorical_accuracy: 0.9141 - val_loss: 0.2148 - val_categorical_accuracy: 0.9212\n",
      "Epoch 5/1000\n",
      "532/532 [==============================] - 2s 4ms/step - loss: 0.2465 - categorical_accuracy: 0.9150 - val_loss: 0.2144 - val_categorical_accuracy: 0.9213\n",
      "Epoch 6/1000\n",
      "532/532 [==============================] - 2s 4ms/step - loss: 0.2480 - categorical_accuracy: 0.9139 - val_loss: 0.2144 - val_categorical_accuracy: 0.9212\n",
      "Epoch 7/1000\n",
      "532/532 [==============================] - 2s 4ms/step - loss: 0.2485 - categorical_accuracy: 0.9152 - val_loss: 0.2143 - val_categorical_accuracy: 0.9210\n",
      "Epoch 8/1000\n",
      "532/532 [==============================] - 2s 4ms/step - loss: 0.2485 - categorical_accuracy: 0.9147 - val_loss: 0.2143 - val_categorical_accuracy: 0.9210\n",
      "Epoch 9/1000\n",
      "532/532 [==============================] - 2s 4ms/step - loss: 0.2478 - categorical_accuracy: 0.9142 - val_loss: 0.2143 - val_categorical_accuracy: 0.9210\n",
      "Epoch 10/1000\n",
      "532/532 [==============================] - 2s 3ms/step - loss: 0.2493 - categorical_accuracy: 0.9158 - val_loss: 0.2142 - val_categorical_accuracy: 0.9210\n",
      "Epoch 11/1000\n",
      "532/532 [==============================] - 2s 4ms/step - loss: 0.2500 - categorical_accuracy: 0.9156 - val_loss: 0.2142 - val_categorical_accuracy: 0.9210\n",
      "Epoch 12/1000\n",
      "532/532 [==============================] - 2s 4ms/step - loss: 0.2458 - categorical_accuracy: 0.9153 - val_loss: 0.2142 - val_categorical_accuracy: 0.9210\n",
      "Epoch 13/1000\n",
      "532/532 [==============================] - 2s 4ms/step - loss: 0.2473 - categorical_accuracy: 0.9160 - val_loss: 0.2142 - val_categorical_accuracy: 0.9208\n",
      "Epoch 14/1000\n",
      "532/532 [==============================] - 2s 4ms/step - loss: 0.2427 - categorical_accuracy: 0.9154 - val_loss: 0.2141 - val_categorical_accuracy: 0.9208\n",
      "Epoch 15/1000\n",
      "532/532 [==============================] - 2s 4ms/step - loss: 0.2494 - categorical_accuracy: 0.9135 - val_loss: 0.2141 - val_categorical_accuracy: 0.9207\n",
      "Epoch 16/1000\n",
      "532/532 [==============================] - 2s 4ms/step - loss: 0.2472 - categorical_accuracy: 0.9144 - val_loss: 0.2141 - val_categorical_accuracy: 0.9207\n",
      "Epoch 17/1000\n",
      "532/532 [==============================] - 2s 4ms/step - loss: 0.2472 - categorical_accuracy: 0.9164 - val_loss: 0.2140 - val_categorical_accuracy: 0.9207\n",
      "Epoch 18/1000\n",
      "532/532 [==============================] - 2s 4ms/step - loss: 0.2522 - categorical_accuracy: 0.9125 - val_loss: 0.2140 - val_categorical_accuracy: 0.9207\n",
      "Epoch 19/1000\n",
      "532/532 [==============================] - 2s 4ms/step - loss: 0.2476 - categorical_accuracy: 0.9139 - val_loss: 0.2140 - val_categorical_accuracy: 0.9207\n",
      "Epoch 20/1000\n",
      "532/532 [==============================] - 2s 4ms/step - loss: 0.2460 - categorical_accuracy: 0.9149 - val_loss: 0.2139 - val_categorical_accuracy: 0.9205\n",
      "Epoch 21/1000\n",
      "532/532 [==============================] - 2s 4ms/step - loss: 0.2480 - categorical_accuracy: 0.9135 - val_loss: 0.2139 - val_categorical_accuracy: 0.9208\n",
      "Epoch 22/1000\n",
      "532/532 [==============================] - 2s 4ms/step - loss: 0.2472 - categorical_accuracy: 0.9153 - val_loss: 0.2139 - val_categorical_accuracy: 0.9208\n",
      "Epoch 23/1000\n",
      "532/532 [==============================] - 2s 4ms/step - loss: 0.2500 - categorical_accuracy: 0.9140 - val_loss: 0.2138 - val_categorical_accuracy: 0.9208\n",
      "Epoch 24/1000\n",
      "532/532 [==============================] - 2s 4ms/step - loss: 0.2462 - categorical_accuracy: 0.9143 - val_loss: 0.2138 - val_categorical_accuracy: 0.9208\n",
      "Epoch 25/1000\n",
      "532/532 [==============================] - 2s 4ms/step - loss: 0.2456 - categorical_accuracy: 0.9159 - val_loss: 0.2138 - val_categorical_accuracy: 0.9208\n",
      "Epoch 26/1000\n",
      "532/532 [==============================] - 2s 4ms/step - loss: 0.2463 - categorical_accuracy: 0.9173 - val_loss: 0.2137 - val_categorical_accuracy: 0.9208\n",
      "Epoch 27/1000\n",
      "532/532 [==============================] - 2s 4ms/step - loss: 0.2485 - categorical_accuracy: 0.9139 - val_loss: 0.2137 - val_categorical_accuracy: 0.9207\n",
      "Epoch 28/1000\n",
      "532/532 [==============================] - 2s 4ms/step - loss: 0.2457 - categorical_accuracy: 0.9172 - val_loss: 0.2137 - val_categorical_accuracy: 0.9207\n",
      "Epoch 29/1000\n",
      "532/532 [==============================] - 2s 4ms/step - loss: 0.2505 - categorical_accuracy: 0.9151 - val_loss: 0.2137 - val_categorical_accuracy: 0.9205\n",
      "Epoch 30/1000\n",
      "532/532 [==============================] - 2s 4ms/step - loss: 0.2453 - categorical_accuracy: 0.9157 - val_loss: 0.2136 - val_categorical_accuracy: 0.9207\n",
      "Epoch 31/1000\n",
      "532/532 [==============================] - 2s 4ms/step - loss: 0.2460 - categorical_accuracy: 0.9138 - val_loss: 0.2136 - val_categorical_accuracy: 0.9207\n",
      "Epoch 32/1000\n",
      "532/532 [==============================] - 2s 4ms/step - loss: 0.2474 - categorical_accuracy: 0.9148 - val_loss: 0.2136 - val_categorical_accuracy: 0.9208\n",
      "Epoch 33/1000\n",
      "532/532 [==============================] - 2s 4ms/step - loss: 0.2469 - categorical_accuracy: 0.9149 - val_loss: 0.2135 - val_categorical_accuracy: 0.9207\n",
      "Epoch 34/1000\n",
      "532/532 [==============================] - 2s 4ms/step - loss: 0.2496 - categorical_accuracy: 0.9146 - val_loss: 0.2135 - val_categorical_accuracy: 0.9207\n",
      "Epoch 35/1000\n",
      "532/532 [==============================] - 2s 4ms/step - loss: 0.2465 - categorical_accuracy: 0.9148 - val_loss: 0.2135 - val_categorical_accuracy: 0.9207\n",
      "Epoch 36/1000\n",
      "532/532 [==============================] - 2s 4ms/step - loss: 0.2462 - categorical_accuracy: 0.9139 - val_loss: 0.2134 - val_categorical_accuracy: 0.9208\n",
      "Epoch 37/1000\n",
      "532/532 [==============================] - 2s 4ms/step - loss: 0.2439 - categorical_accuracy: 0.9148 - val_loss: 0.2134 - val_categorical_accuracy: 0.9210\n",
      "Epoch 38/1000\n",
      "532/532 [==============================] - 2s 4ms/step - loss: 0.2464 - categorical_accuracy: 0.9156 - val_loss: 0.2134 - val_categorical_accuracy: 0.9212\n",
      "Epoch 39/1000\n",
      "532/532 [==============================] - 2s 4ms/step - loss: 0.2490 - categorical_accuracy: 0.9148 - val_loss: 0.2134 - val_categorical_accuracy: 0.9212\n",
      "Epoch 40/1000\n",
      "532/532 [==============================] - 2s 4ms/step - loss: 0.2447 - categorical_accuracy: 0.9161 - val_loss: 0.2133 - val_categorical_accuracy: 0.9212\n",
      "Epoch 41/1000\n",
      "532/532 [==============================] - 2s 4ms/step - loss: 0.2465 - categorical_accuracy: 0.9150 - val_loss: 0.2133 - val_categorical_accuracy: 0.9215\n",
      "Epoch 42/1000\n",
      "532/532 [==============================] - 2s 4ms/step - loss: 0.2500 - categorical_accuracy: 0.9154 - val_loss: 0.2133 - val_categorical_accuracy: 0.9213\n",
      "Epoch 43/1000\n",
      "532/532 [==============================] - 2s 4ms/step - loss: 0.2404 - categorical_accuracy: 0.9169 - val_loss: 0.2132 - val_categorical_accuracy: 0.9213\n",
      "Epoch 44/1000\n",
      "532/532 [==============================] - 2s 4ms/step - loss: 0.2480 - categorical_accuracy: 0.9149 - val_loss: 0.2132 - val_categorical_accuracy: 0.9215\n",
      "Epoch 45/1000\n",
      "532/532 [==============================] - 2s 4ms/step - loss: 0.2470 - categorical_accuracy: 0.9155 - val_loss: 0.2132 - val_categorical_accuracy: 0.9212\n",
      "Epoch 46/1000\n",
      "532/532 [==============================] - 2s 4ms/step - loss: 0.2509 - categorical_accuracy: 0.9139 - val_loss: 0.2132 - val_categorical_accuracy: 0.9215\n",
      "Epoch 47/1000\n",
      "532/532 [==============================] - 2s 4ms/step - loss: 0.2499 - categorical_accuracy: 0.9144 - val_loss: 0.2131 - val_categorical_accuracy: 0.9215\n",
      "Epoch 48/1000\n",
      "532/532 [==============================] - 2s 4ms/step - loss: 0.2443 - categorical_accuracy: 0.9163 - val_loss: 0.2131 - val_categorical_accuracy: 0.9215\n",
      "Epoch 49/1000\n",
      "532/532 [==============================] - 2s 4ms/step - loss: 0.2467 - categorical_accuracy: 0.9161 - val_loss: 0.2131 - val_categorical_accuracy: 0.9215\n",
      "Epoch 50/1000\n"
     ]
    },
    {
     "name": "stdout",
     "output_type": "stream",
     "text": [
      "532/532 [==============================] - 2s 4ms/step - loss: 0.2443 - categorical_accuracy: 0.9153 - val_loss: 0.2130 - val_categorical_accuracy: 0.9215\n",
      "Epoch 51/1000\n",
      "532/532 [==============================] - 2s 4ms/step - loss: 0.2444 - categorical_accuracy: 0.9148 - val_loss: 0.2130 - val_categorical_accuracy: 0.9217\n",
      "Epoch 52/1000\n",
      "532/532 [==============================] - 2s 4ms/step - loss: 0.2462 - categorical_accuracy: 0.9149 - val_loss: 0.2130 - val_categorical_accuracy: 0.9217\n",
      "Epoch 53/1000\n",
      "532/532 [==============================] - 2s 4ms/step - loss: 0.2494 - categorical_accuracy: 0.9149 - val_loss: 0.2129 - val_categorical_accuracy: 0.9217\n",
      "Epoch 54/1000\n",
      "532/532 [==============================] - 2s 4ms/step - loss: 0.2453 - categorical_accuracy: 0.9149 - val_loss: 0.2129 - val_categorical_accuracy: 0.9217\n",
      "Epoch 55/1000\n",
      "532/532 [==============================] - 2s 4ms/step - loss: 0.2455 - categorical_accuracy: 0.9145 - val_loss: 0.2129 - val_categorical_accuracy: 0.9218\n",
      "Epoch 56/1000\n",
      "532/532 [==============================] - 2s 4ms/step - loss: 0.2466 - categorical_accuracy: 0.9138 - val_loss: 0.2129 - val_categorical_accuracy: 0.9218\n",
      "Epoch 57/1000\n",
      "532/532 [==============================] - 2s 4ms/step - loss: 0.2475 - categorical_accuracy: 0.9148 - val_loss: 0.2128 - val_categorical_accuracy: 0.9220\n",
      "Epoch 58/1000\n",
      "532/532 [==============================] - 2s 4ms/step - loss: 0.2480 - categorical_accuracy: 0.9139 - val_loss: 0.2128 - val_categorical_accuracy: 0.9220\n",
      "Epoch 59/1000\n",
      "532/532 [==============================] - 2s 4ms/step - loss: 0.2477 - categorical_accuracy: 0.9165 - val_loss: 0.2128 - val_categorical_accuracy: 0.9218\n",
      "Epoch 60/1000\n",
      "532/532 [==============================] - 2s 4ms/step - loss: 0.2442 - categorical_accuracy: 0.9168 - val_loss: 0.2128 - val_categorical_accuracy: 0.9220\n",
      "Epoch 61/1000\n",
      "532/532 [==============================] - 2s 4ms/step - loss: 0.2475 - categorical_accuracy: 0.9154 - val_loss: 0.2127 - val_categorical_accuracy: 0.9218\n",
      "Epoch 62/1000\n",
      "532/532 [==============================] - 2s 4ms/step - loss: 0.2442 - categorical_accuracy: 0.9158 - val_loss: 0.2127 - val_categorical_accuracy: 0.9218\n",
      "Epoch 63/1000\n",
      "532/532 [==============================] - 2s 4ms/step - loss: 0.2458 - categorical_accuracy: 0.9161 - val_loss: 0.2127 - val_categorical_accuracy: 0.9220\n",
      "Epoch 64/1000\n",
      "532/532 [==============================] - 2s 4ms/step - loss: 0.2437 - categorical_accuracy: 0.9158 - val_loss: 0.2126 - val_categorical_accuracy: 0.9218\n",
      "Epoch 65/1000\n",
      "532/532 [==============================] - 2s 4ms/step - loss: 0.2437 - categorical_accuracy: 0.9160 - val_loss: 0.2126 - val_categorical_accuracy: 0.9218\n",
      "Epoch 66/1000\n",
      "532/532 [==============================] - 2s 4ms/step - loss: 0.2437 - categorical_accuracy: 0.9178 - val_loss: 0.2126 - val_categorical_accuracy: 0.9218\n",
      "Epoch 67/1000\n",
      "532/532 [==============================] - 2s 4ms/step - loss: 0.2461 - categorical_accuracy: 0.9150 - val_loss: 0.2126 - val_categorical_accuracy: 0.9218\n",
      "Epoch 68/1000\n",
      "532/532 [==============================] - 2s 4ms/step - loss: 0.2468 - categorical_accuracy: 0.9162 - val_loss: 0.2125 - val_categorical_accuracy: 0.9218\n",
      "Epoch 69/1000\n",
      "532/532 [==============================] - 2s 4ms/step - loss: 0.2453 - categorical_accuracy: 0.9174 - val_loss: 0.2125 - val_categorical_accuracy: 0.9218\n",
      "Epoch 70/1000\n",
      "532/532 [==============================] - 2s 4ms/step - loss: 0.2453 - categorical_accuracy: 0.9167 - val_loss: 0.2125 - val_categorical_accuracy: 0.9218\n",
      "Epoch 71/1000\n",
      "532/532 [==============================] - 2s 4ms/step - loss: 0.2473 - categorical_accuracy: 0.9138 - val_loss: 0.2125 - val_categorical_accuracy: 0.9218\n",
      "Epoch 72/1000\n",
      "532/532 [==============================] - 2s 4ms/step - loss: 0.2442 - categorical_accuracy: 0.9165 - val_loss: 0.2124 - val_categorical_accuracy: 0.9218\n",
      "Epoch 73/1000\n",
      "532/532 [==============================] - 2s 4ms/step - loss: 0.2473 - categorical_accuracy: 0.9153 - val_loss: 0.2124 - val_categorical_accuracy: 0.9218\n",
      "Epoch 74/1000\n",
      "532/532 [==============================] - 2s 4ms/step - loss: 0.2478 - categorical_accuracy: 0.9139 - val_loss: 0.2124 - val_categorical_accuracy: 0.9218\n",
      "Epoch 75/1000\n",
      "532/532 [==============================] - 2s 4ms/step - loss: 0.2465 - categorical_accuracy: 0.9156 - val_loss: 0.2124 - val_categorical_accuracy: 0.9218\n",
      "Epoch 76/1000\n",
      "532/532 [==============================] - 2s 4ms/step - loss: 0.2441 - categorical_accuracy: 0.9168 - val_loss: 0.2124 - val_categorical_accuracy: 0.9218\n",
      "Epoch 77/1000\n",
      "532/532 [==============================] - 2s 4ms/step - loss: 0.2428 - categorical_accuracy: 0.9167 - val_loss: 0.2124 - val_categorical_accuracy: 0.9218\n",
      "Epoch 78/1000\n",
      "532/532 [==============================] - 2s 4ms/step - loss: 0.2435 - categorical_accuracy: 0.9170 - val_loss: 0.2123 - val_categorical_accuracy: 0.9218\n",
      "Epoch 79/1000\n",
      "532/532 [==============================] - 2s 4ms/step - loss: 0.2455 - categorical_accuracy: 0.9148 - val_loss: 0.2123 - val_categorical_accuracy: 0.9218\n",
      "Epoch 80/1000\n",
      "532/532 [==============================] - 2s 4ms/step - loss: 0.2468 - categorical_accuracy: 0.9163 - val_loss: 0.2123 - val_categorical_accuracy: 0.9218\n",
      "Epoch 81/1000\n",
      "532/532 [==============================] - 2s 4ms/step - loss: 0.2453 - categorical_accuracy: 0.9155 - val_loss: 0.2123 - val_categorical_accuracy: 0.9218\n",
      "Epoch 82/1000\n",
      "532/532 [==============================] - 2s 4ms/step - loss: 0.2434 - categorical_accuracy: 0.9166 - val_loss: 0.2122 - val_categorical_accuracy: 0.9218\n",
      "Epoch 83/1000\n",
      "532/532 [==============================] - 2s 4ms/step - loss: 0.2424 - categorical_accuracy: 0.9152 - val_loss: 0.2122 - val_categorical_accuracy: 0.9220\n",
      "Epoch 84/1000\n",
      "532/532 [==============================] - 2s 4ms/step - loss: 0.2453 - categorical_accuracy: 0.9151 - val_loss: 0.2122 - val_categorical_accuracy: 0.9218\n",
      "Epoch 85/1000\n",
      "532/532 [==============================] - 2s 4ms/step - loss: 0.2462 - categorical_accuracy: 0.9163 - val_loss: 0.2122 - val_categorical_accuracy: 0.9217\n",
      "Epoch 86/1000\n",
      "532/532 [==============================] - 2s 4ms/step - loss: 0.2453 - categorical_accuracy: 0.9154 - val_loss: 0.2121 - val_categorical_accuracy: 0.9218\n",
      "Epoch 87/1000\n",
      "532/532 [==============================] - 2s 4ms/step - loss: 0.2408 - categorical_accuracy: 0.9161 - val_loss: 0.2121 - val_categorical_accuracy: 0.9218\n",
      "Epoch 88/1000\n",
      "532/532 [==============================] - 2s 4ms/step - loss: 0.2434 - categorical_accuracy: 0.9155 - val_loss: 0.2121 - val_categorical_accuracy: 0.9218\n",
      "Epoch 89/1000\n",
      "532/532 [==============================] - 2s 4ms/step - loss: 0.2423 - categorical_accuracy: 0.9163 - val_loss: 0.2121 - val_categorical_accuracy: 0.9217\n",
      "Epoch 90/1000\n",
      "532/532 [==============================] - 2s 4ms/step - loss: 0.2466 - categorical_accuracy: 0.9147 - val_loss: 0.2121 - val_categorical_accuracy: 0.9217\n",
      "Epoch 91/1000\n",
      "532/532 [==============================] - 2s 4ms/step - loss: 0.2455 - categorical_accuracy: 0.9151 - val_loss: 0.2120 - val_categorical_accuracy: 0.9217\n",
      "Epoch 92/1000\n",
      "532/532 [==============================] - 2s 4ms/step - loss: 0.2447 - categorical_accuracy: 0.9166 - val_loss: 0.2120 - val_categorical_accuracy: 0.9217\n",
      "Epoch 93/1000\n",
      "532/532 [==============================] - 2s 4ms/step - loss: 0.2425 - categorical_accuracy: 0.9165 - val_loss: 0.2120 - val_categorical_accuracy: 0.9218\n",
      "Epoch 94/1000\n",
      "532/532 [==============================] - 2s 4ms/step - loss: 0.2459 - categorical_accuracy: 0.9147 - val_loss: 0.2119 - val_categorical_accuracy: 0.9218\n",
      "Epoch 95/1000\n",
      "532/532 [==============================] - 2s 4ms/step - loss: 0.2445 - categorical_accuracy: 0.9168 - val_loss: 0.2119 - val_categorical_accuracy: 0.9218\n",
      "Epoch 96/1000\n",
      "532/532 [==============================] - 2s 4ms/step - loss: 0.2435 - categorical_accuracy: 0.9168 - val_loss: 0.2119 - val_categorical_accuracy: 0.9220\n",
      "Epoch 97/1000\n",
      "532/532 [==============================] - 2s 4ms/step - loss: 0.2415 - categorical_accuracy: 0.9174 - val_loss: 0.2118 - val_categorical_accuracy: 0.9220\n",
      "Epoch 98/1000\n"
     ]
    },
    {
     "name": "stdout",
     "output_type": "stream",
     "text": [
      "532/532 [==============================] - 2s 4ms/step - loss: 0.2453 - categorical_accuracy: 0.9151 - val_loss: 0.2118 - val_categorical_accuracy: 0.9220\n",
      "Epoch 99/1000\n",
      "532/532 [==============================] - 2s 4ms/step - loss: 0.2437 - categorical_accuracy: 0.9154 - val_loss: 0.2118 - val_categorical_accuracy: 0.9220\n",
      "Epoch 100/1000\n",
      "532/532 [==============================] - 2s 4ms/step - loss: 0.2398 - categorical_accuracy: 0.9161 - val_loss: 0.2118 - val_categorical_accuracy: 0.9220\n",
      "Epoch 101/1000\n",
      "532/532 [==============================] - 2s 4ms/step - loss: 0.2430 - categorical_accuracy: 0.9165 - val_loss: 0.2118 - val_categorical_accuracy: 0.9220\n",
      "Epoch 102/1000\n",
      "532/532 [==============================] - 2s 4ms/step - loss: 0.2436 - categorical_accuracy: 0.9151 - val_loss: 0.2117 - val_categorical_accuracy: 0.9220\n",
      "Epoch 103/1000\n",
      "532/532 [==============================] - 2s 4ms/step - loss: 0.2457 - categorical_accuracy: 0.9149 - val_loss: 0.2117 - val_categorical_accuracy: 0.9220\n",
      "Epoch 104/1000\n",
      "532/532 [==============================] - 2s 4ms/step - loss: 0.2438 - categorical_accuracy: 0.9156 - val_loss: 0.2117 - val_categorical_accuracy: 0.9220\n",
      "Epoch 105/1000\n",
      "532/532 [==============================] - 2s 4ms/step - loss: 0.2436 - categorical_accuracy: 0.9159 - val_loss: 0.2117 - val_categorical_accuracy: 0.9220\n",
      "Epoch 106/1000\n",
      "532/532 [==============================] - 2s 4ms/step - loss: 0.2409 - categorical_accuracy: 0.9162 - val_loss: 0.2117 - val_categorical_accuracy: 0.9220\n",
      "Epoch 107/1000\n",
      "532/532 [==============================] - 2s 4ms/step - loss: 0.2427 - categorical_accuracy: 0.9171 - val_loss: 0.2116 - val_categorical_accuracy: 0.9218\n"
     ]
    },
    {
     "data": {
      "text/plain": [
       "<tensorflow.python.keras.callbacks.History at 0x7f70595cca90>"
      ]
     },
     "execution_count": 18,
     "metadata": {},
     "output_type": "execute_result"
    }
   ],
   "source": [
    "from tensorflow.keras.callbacks import (EarlyStopping, ModelCheckpoint,\n",
    "                                        ReduceLROnPlateau)\n",
    "callbacks = []\n",
    "callbacks.append(EarlyStopping(monitor='val_categorical_accuracy', patience=50, verbose=0, mode='max'))\n",
    "callbacks.append(ModelCheckpoint(dir_models / 'clf.h5', save_best_only=True, monitor='val_categorical_accuracy', mode='max', save_weights_only=False))\n",
    "\n",
    "     \n",
    "clf.fit(\n",
    "    x=X_tr,\n",
    "    y=Y_tr.todense(),\n",
    "    batch_size=64,\n",
    "    epochs=1000,\n",
    "    validation_data=(\n",
    "        X_ev,\n",
    "        Y_ev.todense()\n",
    "    ),\n",
    "    callbacks=callbacks\n",
    ")"
   ]
  },
  {
   "cell_type": "markdown",
   "id": "f406e782",
   "metadata": {},
   "source": [
    "## Load model at best epoch"
   ]
  },
  {
   "cell_type": "code",
   "execution_count": 19,
   "id": "e8be919e",
   "metadata": {},
   "outputs": [],
   "source": [
    "from tensorflow.keras.models import load_model\n",
    "from author_classification.modeling import scale_fn # Needed to load the model\n",
    "\n",
    "clf_best = load_model(dir_models / 'clf.h5', custom_objects={'scale_fn': scale_fn})"
   ]
  },
  {
   "cell_type": "markdown",
   "id": "cfa3e7ce",
   "metadata": {},
   "source": [
    "## Predict"
   ]
  },
  {
   "cell_type": "code",
   "execution_count": 20,
   "id": "cf1220fb",
   "metadata": {},
   "outputs": [
    {
     "name": "stderr",
     "output_type": "stream",
     "text": [
      "2022-04-26 18:36:27.542446: W tensorflow/core/framework/cpu_allocator_impl.cc:80] Allocation of 397120000 exceeds 10% of free system memory.\n",
      "2022-04-26 18:36:28.582586: W tensorflow/core/framework/cpu_allocator_impl.cc:80] Allocation of 70080000 exceeds 10% of free system memory.\n"
     ]
    }
   ],
   "source": [
    "from sklearn.metrics import classification_report\n",
    "\n",
    "Y_hat_tr = le.inverse_transform(clf_best.predict(X_tr))\n",
    "Y_hat_ev = le.inverse_transform(clf_best.predict(X_ev))"
   ]
  },
  {
   "cell_type": "markdown",
   "id": "33d5f397",
   "metadata": {},
   "source": [
    "## Evaluate on training data (to see how much overfitted it is)"
   ]
  },
  {
   "cell_type": "code",
   "execution_count": 21,
   "id": "dc95f858",
   "metadata": {},
   "outputs": [
    {
     "name": "stdout",
     "output_type": "stream",
     "text": [
      "              precision    recall  f1-score   support\n",
      "\n",
      "       defoe       0.97      0.98      0.97      8500\n",
      "     dickens       0.94      0.92      0.93      8500\n",
      "       doyle       0.94      0.95      0.94      8500\n",
      "       twain       0.93      0.94      0.93      8500\n",
      "\n",
      "    accuracy                           0.95     34000\n",
      "   macro avg       0.95      0.95      0.95     34000\n",
      "weighted avg       0.95      0.95      0.95     34000\n",
      "\n"
     ]
    }
   ],
   "source": [
    "from sklearn.metrics import classification_report\n",
    "print(classification_report(df_tr['author'], Y_hat_tr))"
   ]
  },
  {
   "cell_type": "markdown",
   "id": "29776f30",
   "metadata": {},
   "source": [
    "## Evaluate on eval (dev) data"
   ]
  },
  {
   "cell_type": "code",
   "execution_count": 22,
   "id": "b4fcaac9",
   "metadata": {},
   "outputs": [
    {
     "name": "stdout",
     "output_type": "stream",
     "text": [
      "              precision    recall  f1-score   support\n",
      "\n",
      "       defoe       0.95      0.96      0.95      1500\n",
      "     dickens       0.92      0.89      0.90      1500\n",
      "       doyle       0.92      0.93      0.92      1500\n",
      "       twain       0.90      0.91      0.91      1500\n",
      "\n",
      "    accuracy                           0.92      6000\n",
      "   macro avg       0.92      0.92      0.92      6000\n",
      "weighted avg       0.92      0.92      0.92      6000\n",
      "\n"
     ]
    }
   ],
   "source": [
    "from sklearn.metrics import classification_report\n",
    "print(classification_report(df_ev['author'], Y_hat_ev))"
   ]
  },
  {
   "cell_type": "markdown",
   "id": "ab5e0da6",
   "metadata": {},
   "source": [
    "### Plot confusion matrix (eval data)"
   ]
  },
  {
   "cell_type": "code",
   "execution_count": 23,
   "id": "8592556c",
   "metadata": {},
   "outputs": [
    {
     "name": "stdout",
     "output_type": "stream",
     "text": [
      "Normalized confusion matrix\n"
     ]
    },
    {
     "data": {
      "text/plain": [
       "<matplotlib.axes._subplots.AxesSubplot at 0x7f7012f90250>"
      ]
     },
     "execution_count": 23,
     "metadata": {},
     "output_type": "execute_result"
    },
    {
     "data": {
      "image/png": "[encoded data removed]",
      "text/plain": [
       "<Figure size 576x576 with 2 Axes>"
      ]
     },
     "metadata": {
      "needs_background": "light"
     },
     "output_type": "display_data"
    }
   ],
   "source": [
    "from author_classification.confusion_matrix import plot_cm\n",
    "plot_cm(df_ev['author'], Y_hat_ev.flatten())"
   ]
  },
  {
   "cell_type": "markdown",
   "id": "4fe47e60",
   "metadata": {},
   "source": [
    "### Show some examples of bad classifications (eval)"
   ]
  },
  {
   "cell_type": "code",
   "execution_count": 24,
   "id": "ffc2019b",
   "metadata": {},
   "outputs": [
    {
     "name": "stderr",
     "output_type": "stream",
     "text": [
      "/usr/local/lib/python3.7/dist-packages/ipykernel_launcher.py:1: SettingWithCopyWarning: \n",
      "A value is trying to be set on a copy of a slice from a DataFrame.\n",
      "Try using .loc[row_indexer,col_indexer] = value instead\n",
      "\n",
      "See the caveats in the documentation: https://pandas.pydata.org/pandas-docs/stable/user_guide/indexing.html#returning-a-view-versus-a-copy\n",
      "  \"\"\"Entry point for launching an IPython kernel.\n"
     ]
    },
    {
     "data": {
      "text/html": [
       "<div>\n",
       "<style scoped>\n",
       "    .dataframe tbody tr th:only-of-type {\n",
       "        vertical-align: middle;\n",
       "    }\n",
       "\n",
       "    .dataframe tbody tr th {\n",
       "        vertical-align: top;\n",
       "    }\n",
       "\n",
       "    .dataframe thead th {\n",
       "        text-align: right;\n",
       "    }\n",
       "</style>\n",
       "<table border=\"1\" class=\"dataframe\">\n",
       "  <thead>\n",
       "    <tr style=\"text-align: right;\">\n",
       "      <th></th>\n",
       "      <th>text</th>\n",
       "      <th>author</th>\n",
       "      <th>author_predicted</th>\n",
       "    </tr>\n",
       "    <tr>\n",
       "      <th>index</th>\n",
       "      <th></th>\n",
       "      <th></th>\n",
       "      <th></th>\n",
       "    </tr>\n",
       "  </thead>\n",
       "  <tbody>\n",
       "    <tr>\n",
       "      <th>1434</th>\n",
       "      <td>Among these\\n      causes and effects, this of the secret conveyance of infection,\\n      imperceptible and unavoidable, is more than sufficient to execute\\n      the fierceness of Divine vengeance, without putting it upon\\n      supernaturals and miracle</td>\n",
       "      <td>defoe</td>\n",
       "      <td>dickens</td>\n",
       "    </tr>\n",
       "    <tr>\n",
       "      <th>6896</th>\n",
       "      <td>The\\nstory seems to be working itself out to a logical conclusion, when\\nunexpectedly it comes to an end. \\n\\nIt is not always necessary that the names of persons should be\\ndiscovered, though the history may be many ways useful; and if we should\\nbe always obliged to name the persons, or not to relate the story, the\\nconsequence might be only this--that many a pleasant and delightful\\nhistory would be buried in the dark, and the world deprived both of the\\npleasure and the profit of it</td>\n",
       "      <td>defoe</td>\n",
       "      <td>twain</td>\n",
       "    </tr>\n",
       "    <tr>\n",
       "      <th>10320</th>\n",
       "      <td>In three months more, a year would have passed since the\\nbeginning of my sorrow.  I determined to make no resolutions until the\\nexpiration of those three months, but to try.  I lived in that valley,\\nand its neighbourhood, all the time</td>\n",
       "      <td>dickens</td>\n",
       "      <td>twain</td>\n",
       "    </tr>\n",
       "    <tr>\n",
       "      <th>10397</th>\n",
       "      <td>I could ha’ got\\nclear of these death-cold flats likewise—look at my leg: you won’t find\\nmuch iron on it—if I hadn’t made the discovery that _he_ was here.  Let\\n_him_ go free? Let _him_ profit by the means as I found out? Let _him_\\nmake a tool of me afresh and again? Once more? No, no, no</td>\n",
       "      <td>dickens</td>\n",
       "      <td>defoe</td>\n",
       "    </tr>\n",
       "    <tr>\n",
       "      <th>22928</th>\n",
       "      <td>We have a clear month before us; at\\nthe end of that, I guess we had best shin out of Utah. ”\\n\\n“Leave Utah!”\\n\\n“That’s about the size of it.  I’m a free-born American, and it’s all new to me.  Guess\\nI’m too old to learn</td>\n",
       "      <td>doyle</td>\n",
       "      <td>twain</td>\n",
       "    </tr>\n",
       "    <tr>\n",
       "      <th>22103</th>\n",
       "      <td>He took out a ten-pound note, and he held it\\nout to me then and there.  ‘You can have the same every fortnight for a\\nlong time to come if you keep the terms,’ he said.  ‘If not, I’ll have\\nno more to do with you</td>\n",
       "      <td>doyle</td>\n",
       "      <td>dickens</td>\n",
       "    </tr>\n",
       "    <tr>\n",
       "      <th>35918</th>\n",
       "      <td>\\n\\n“Let her go back on the labboard! Ting-a-ling-ling! Chow-ch-chow-chow!”\\n The left hand began to describe circles. \\n\\n“Stop the stabboard! Ting-a-ling-ling! Stop the labboard! Come ahead on\\nthe stabboard! Stop her! Let your outside turn over slow! Ting-a-ling-ling!\\nChow-ow-ow! Get out that head-line! _lively_ now! Come—out with\\nyour spring-line—what’re you about there! Take a turn round that stump\\nwith the bight of it! Stand by that stage, now—let her go! Done with\\nthe engines, sir! Ting-a-ling-ling! SH’T! S’H’T! SH’T!” (trying the\\ngauge-cocks)</td>\n",
       "      <td>twain</td>\n",
       "      <td>dickens</td>\n",
       "    </tr>\n",
       "    <tr>\n",
       "      <th>33653</th>\n",
       "      <td>”\\n\\n“Speak, and freely.   I will tell you. ”\\n\\n“It will be difficult--perhaps impossible. ”\\n\\n“My art knoweth not that word.   The more difficult it is, the more\\ncertainly will I reveal it to you. ”\\n\\n“The fortune is mine!  I will tell you what you would know</td>\n",
       "      <td>twain</td>\n",
       "      <td>doyle</td>\n",
       "    </tr>\n",
       "  </tbody>\n",
       "</table>\n",
       "</div>"
      ],
      "text/plain": [
       "                                                                                                                                                                                                                                                                                                                                                                                                                                                                                                                                                                                    text  \\\n",
       "index                                                                                                                                                                                                                                                                                                                                                                                                                                                                                                                                                                                      \n",
       "1434                                                                                                                                                                                                                                                                                                                     Among these\\n      causes and effects, this of the secret conveyance of infection,\\n      imperceptible and unavoidable, is more than sufficient to execute\\n      the fierceness of Divine vengeance, without putting it upon\\n      supernaturals and miracle   \n",
       "6896                                                                         The\\nstory seems to be working itself out to a logical conclusion, when\\nunexpectedly it comes to an end. \\n\\nIt is not always necessary that the names of persons should be\\ndiscovered, though the history may be many ways useful; and if we should\\nbe always obliged to name the persons, or not to relate the story, the\\nconsequence might be only this--that many a pleasant and delightful\\nhistory would be buried in the dark, and the world deprived both of the\\npleasure and the profit of it   \n",
       "10320                                                                                                                                                                                                                                                                                                                                      In three months more, a year would have passed since the\\nbeginning of my sorrow.  I determined to make no resolutions until the\\nexpiration of those three months, but to try.  I lived in that valley,\\nand its neighbourhood, all the time   \n",
       "10397                                                                                                                                                                                                                                                                               I could ha’ got\\nclear of these death-cold flats likewise—look at my leg: you won’t find\\nmuch iron on it—if I hadn’t made the discovery that _he_ was here.  Let\\n_him_ go free? Let _him_ profit by the means as I found out? Let _him_\\nmake a tool of me afresh and again? Once more? No, no, no   \n",
       "22928                                                                                                                                                                                                                                                                                                                                                    We have a clear month before us; at\\nthe end of that, I guess we had best shin out of Utah. ”\\n\\n“Leave Utah!”\\n\\n“That’s about the size of it.  I’m a free-born American, and it’s all new to me.  Guess\\nI’m too old to learn   \n",
       "22103                                                                                                                                                                                                                                                                                                                                                              He took out a ten-pound note, and he held it\\nout to me then and there.  ‘You can have the same every fortnight for a\\nlong time to come if you keep the terms,’ he said.  ‘If not, I’ll have\\nno more to do with you   \n",
       "35918  \\n\\n“Let her go back on the labboard! Ting-a-ling-ling! Chow-ch-chow-chow!”\\n The left hand began to describe circles. \\n\\n“Stop the stabboard! Ting-a-ling-ling! Stop the labboard! Come ahead on\\nthe stabboard! Stop her! Let your outside turn over slow! Ting-a-ling-ling!\\nChow-ow-ow! Get out that head-line! _lively_ now! Come—out with\\nyour spring-line—what’re you about there! Take a turn round that stump\\nwith the bight of it! Stand by that stage, now—let her go! Done with\\nthe engines, sir! Ting-a-ling-ling! SH’T! S’H’T! SH’T!” (trying the\\ngauge-cocks)   \n",
       "33653                                                                                                                                                                                                                                                                                                           ”\\n\\n“Speak, and freely.   I will tell you. ”\\n\\n“It will be difficult--perhaps impossible. ”\\n\\n“My art knoweth not that word.   The more difficult it is, the more\\ncertainly will I reveal it to you. ”\\n\\n“The fortune is mine!  I will tell you what you would know   \n",
       "\n",
       "        author author_predicted  \n",
       "index                            \n",
       "1434     defoe          dickens  \n",
       "6896     defoe            twain  \n",
       "10320  dickens            twain  \n",
       "10397  dickens            defoe  \n",
       "22928    doyle            twain  \n",
       "22103    doyle          dickens  \n",
       "35918    twain          dickens  \n",
       "33653    twain            doyle  "
      ]
     },
     "metadata": {},
     "output_type": "display_data"
    }
   ],
   "source": [
    "df_ev['author_predicted'] = Y_hat_ev\n",
    "\n",
    "with pd.option_context('display.max_colwidth', None):\n",
    "    display(df_ev[df_ev['author'] != df_ev['author_predicted']].groupby('author').sample(2, random_state=288)[['text', 'author', 'author_predicted']])"
   ]
  }
 ],
 "metadata": {
  "kernelspec": {
   "display_name": "Python 3 (ipykernel)",
   "language": "python",
   "name": "python3"
  },
  "language_info": {
   "codemirror_mode": {
    "name": "ipython",
    "version": 3
   },
   "file_extension": ".py",
   "mimetype": "text/x-python",
   "name": "python",
   "nbconvert_exporter": "python",
   "pygments_lexer": "ipython3",
   "version": "3.7.10"
  },
  "toc": {
   "base_numbering": 1,
   "nav_menu": {},
   "number_sections": true,
   "sideBar": true,
   "skip_h1_title": false,
   "title_cell": "Table of Contents",
   "title_sidebar": "Contents",
   "toc_cell": false,
   "toc_position": {},
   "toc_section_display": true,
   "toc_window_display": false
  }
 },
 "nbformat": 4,
 "nbformat_minor": 5
}
